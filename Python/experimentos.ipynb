{
 "cells": [
  {
   "cell_type": "markdown",
   "metadata": {},
   "source": [
    "# Correr experimentos\n",
    "En este archivo está el código para correr los experimentos y escribir los resultados en archivos CSV.\n",
    "> Los archivos se guardan en la carpeta _resultados_."
   ]
  },
  {
   "cell_type": "code",
   "execution_count": 23,
   "metadata": {},
   "outputs": [],
   "source": [
    "import math, subprocess\n",
    "import os\n",
    "import pandas as pd\n",
    "import numpy as np\n",
    "from IPython.display import display, clear_output"
   ]
  },
  {
   "cell_type": "markdown",
   "metadata": {},
   "source": [
    "A continuación leemos los datasets en dataframes de Pandas."
   ]
  },
  {
   "cell_type": "code",
   "execution_count": 24,
   "metadata": {},
   "outputs": [],
   "source": [
    "def leer_instancia(path_instancia):\n",
    "    with open(path_instancia, \"r\") as f:\n",
    "        return f.read();\n",
    "\n",
    "\n",
    "df_grafos_propios = pd.read_csv(\"instancias/grafo-propio/indice.csv\");\n",
    "df_grafos_opt = pd.read_csv(\"instancias/descargas/indice.csv\");\n",
    "\n"
   ]
  },
  {
   "cell_type": "markdown",
   "metadata": {},
   "source": [
    "La siguiente función sirve para correr el código sobre una instancia ejecutando un método en particular.\n",
    "Metodos:\n",
    "- agm\n",
    "- ins\n",
    "- GA\n",
    "- TABU_CICLOS\n",
    "- TABU_ESTRUCTURA\n"
   ]
  },
  {
   "cell_type": "code",
   "execution_count": 25,
   "metadata": {},
   "outputs": [],
   "source": [
    "def correr_experimento(metodo, archivo_instancia):\n",
    "    # Leer archivo de la instancia.\n",
    "    instancia = leer_instancia(archivo_instancia)\n",
    "    display(metodo)\n",
    "    #print(instancia)\n",
    "    \n",
    "    \n",
    "    # Crear proceso para ejecutar el codigo.\n",
    "    process = subprocess.Popen([\"../TSP\", metodo], stderr=subprocess.PIPE, stdout=subprocess.PIPE, stdin=subprocess.PIPE, universal_newlines = True)\n",
    "\n",
    "    # Poner la instancia en la entrada estandar.\n",
    "    process.stdin.write(instancia)\n",
    "    process.stdin.flush()\n",
    "\n",
    "    # Correr experimento.\n",
    "    exit_code = process.wait()\n",
    "\n",
    "    # Verificar que el proceso no fallo.\n",
    "    if exit_code != 0: raise(F\"Hubo un error en la experimentacion para el algoritmo: {algoritmo} con la instancia {archivo_instancia}.\")\n",
    "    # Leer salida de STDERR con los tiempos de ejecucion de cada metodo.\n",
    "    tiempo_de_ejecucion = float(process.stderr.read());\n",
    "    res = process.stdout.read().split(\" \")\n",
    "    tam = res[0] #tamaño del ciclo\n",
    "    pyc =res[1].split(\"\\n\")\n",
    "    peso = pyc[0] #peso del ciclo\n",
    "    ciclo = pyc[1] #ciclo\n",
    "\n",
    "    \n",
    "    process.stdin.close();\n",
    "    process.stdout.close();\n",
    "    process.stderr.close();\n",
    "    \n",
    "    return [tiempo_de_ejecucion, tam, peso, ciclo]; #devuelvo un par de cosas extra por si las queremos usar"
   ]
  },
  {
   "cell_type": "markdown",
   "metadata": {},
   "source": [
    "## Corremos los experimentos\n",
    "Vamos a guardar una tabla con las ejecuciones y sus respectivos tiempos."
   ]
  },
  {
   "cell_type": "code",
   "execution_count": 26,
   "metadata": {},
   "outputs": [],
   "source": [
    "experimentos = [];\n",
    "#algoritmos = [\"ins\", \"agm\", \"GA\",  \"TABU_CICLOS\", \"TABU_ESTRUCTURA\"]\n",
    "algoritmos =[\"ins\", \"agm\", \"GA\",  \"TABU_CICLOS\", \"TABU_ESTRUCTURA\"]; #de prueba para ver que funciona"
   ]
  },
  {
   "cell_type": "markdown",
   "metadata": {},
   "source": [
    "### Experimento 1\n",
    "Correr Fuerza Bruta en las primeras 30 instancias de densidad-alta y densidad-baja."
   ]
  },
  {
   "cell_type": "code",
   "execution_count": 27,
   "metadata": {},
   "outputs": [
    {
     "data": {
      "text/plain": [
       "dataset                         grafo-propio\n",
       "instancia                                G-3\n",
       "n                                          3\n",
       "m                                          3\n",
       "archivo      instancias/grafo-propio/G-3.txt\n",
       "Name: 0, dtype: object"
      ]
     },
     "metadata": {},
     "output_type": "display_data"
    },
    {
     "data": {
      "text/plain": [
       "dataset                         grafo-propio\n",
       "instancia                                G-4\n",
       "n                                          4\n",
       "m                                          6\n",
       "archivo      instancias/grafo-propio/G-4.txt\n",
       "Name: 1, dtype: object"
      ]
     },
     "metadata": {},
     "output_type": "display_data"
    },
    {
     "data": {
      "text/plain": [
       "dataset                         grafo-propio\n",
       "instancia                                G-5\n",
       "n                                          5\n",
       "m                                         10\n",
       "archivo      instancias/grafo-propio/G-5.txt\n",
       "Name: 2, dtype: object"
      ]
     },
     "metadata": {},
     "output_type": "display_data"
    },
    {
     "data": {
      "text/plain": [
       "dataset                         grafo-propio\n",
       "instancia                                G-6\n",
       "n                                          6\n",
       "m                                         15\n",
       "archivo      instancias/grafo-propio/G-6.txt\n",
       "Name: 3, dtype: object"
      ]
     },
     "metadata": {},
     "output_type": "display_data"
    },
    {
     "data": {
      "text/plain": [
       "dataset                         grafo-propio\n",
       "instancia                                G-7\n",
       "n                                          7\n",
       "m                                         21\n",
       "archivo      instancias/grafo-propio/G-7.txt\n",
       "Name: 4, dtype: object"
      ]
     },
     "metadata": {},
     "output_type": "display_data"
    },
    {
     "data": {
      "text/plain": [
       "dataset                         grafo-propio\n",
       "instancia                                G-8\n",
       "n                                          8\n",
       "m                                         28\n",
       "archivo      instancias/grafo-propio/G-8.txt\n",
       "Name: 5, dtype: object"
      ]
     },
     "metadata": {},
     "output_type": "display_data"
    },
    {
     "data": {
      "text/plain": [
       "dataset                         grafo-propio\n",
       "instancia                                G-9\n",
       "n                                          9\n",
       "m                                         36\n",
       "archivo      instancias/grafo-propio/G-9.txt\n",
       "Name: 6, dtype: object"
      ]
     },
     "metadata": {},
     "output_type": "display_data"
    },
    {
     "data": {
      "text/plain": [
       "dataset                          grafo-propio\n",
       "instancia                                G-10\n",
       "n                                          10\n",
       "m                                          45\n",
       "archivo      instancias/grafo-propio/G-10.txt\n",
       "Name: 7, dtype: object"
      ]
     },
     "metadata": {},
     "output_type": "display_data"
    },
    {
     "data": {
      "text/plain": [
       "dataset                          grafo-propio\n",
       "instancia                                G-11\n",
       "n                                          11\n",
       "m                                          55\n",
       "archivo      instancias/grafo-propio/G-11.txt\n",
       "Name: 8, dtype: object"
      ]
     },
     "metadata": {},
     "output_type": "display_data"
    },
    {
     "data": {
      "text/plain": [
       "dataset                          grafo-propio\n",
       "instancia                                G-12\n",
       "n                                          12\n",
       "m                                          66\n",
       "archivo      instancias/grafo-propio/G-12.txt\n",
       "Name: 9, dtype: object"
      ]
     },
     "metadata": {},
     "output_type": "display_data"
    },
    {
     "data": {
      "text/plain": [
       "dataset                          grafo-propio\n",
       "instancia                                G-13\n",
       "n                                          13\n",
       "m                                          78\n",
       "archivo      instancias/grafo-propio/G-13.txt\n",
       "Name: 10, dtype: object"
      ]
     },
     "metadata": {},
     "output_type": "display_data"
    },
    {
     "data": {
      "text/plain": [
       "dataset                          grafo-propio\n",
       "instancia                                G-14\n",
       "n                                          14\n",
       "m                                          91\n",
       "archivo      instancias/grafo-propio/G-14.txt\n",
       "Name: 11, dtype: object"
      ]
     },
     "metadata": {},
     "output_type": "display_data"
    },
    {
     "data": {
      "text/plain": [
       "dataset                          grafo-propio\n",
       "instancia                                G-15\n",
       "n                                          15\n",
       "m                                         105\n",
       "archivo      instancias/grafo-propio/G-15.txt\n",
       "Name: 12, dtype: object"
      ]
     },
     "metadata": {},
     "output_type": "display_data"
    },
    {
     "data": {
      "text/plain": [
       "dataset                          grafo-propio\n",
       "instancia                                G-16\n",
       "n                                          16\n",
       "m                                         120\n",
       "archivo      instancias/grafo-propio/G-16.txt\n",
       "Name: 13, dtype: object"
      ]
     },
     "metadata": {},
     "output_type": "display_data"
    },
    {
     "data": {
      "text/plain": [
       "dataset                          grafo-propio\n",
       "instancia                                G-17\n",
       "n                                          17\n",
       "m                                         136\n",
       "archivo      instancias/grafo-propio/G-17.txt\n",
       "Name: 14, dtype: object"
      ]
     },
     "metadata": {},
     "output_type": "display_data"
    },
    {
     "data": {
      "text/plain": [
       "dataset                          grafo-propio\n",
       "instancia                                G-18\n",
       "n                                          18\n",
       "m                                         153\n",
       "archivo      instancias/grafo-propio/G-18.txt\n",
       "Name: 15, dtype: object"
      ]
     },
     "metadata": {},
     "output_type": "display_data"
    },
    {
     "data": {
      "text/plain": [
       "dataset                          grafo-propio\n",
       "instancia                                G-19\n",
       "n                                          19\n",
       "m                                         171\n",
       "archivo      instancias/grafo-propio/G-19.txt\n",
       "Name: 16, dtype: object"
      ]
     },
     "metadata": {},
     "output_type": "display_data"
    },
    {
     "data": {
      "text/plain": [
       "dataset                          grafo-propio\n",
       "instancia                                G-20\n",
       "n                                          20\n",
       "m                                         190\n",
       "archivo      instancias/grafo-propio/G-20.txt\n",
       "Name: 17, dtype: object"
      ]
     },
     "metadata": {},
     "output_type": "display_data"
    },
    {
     "data": {
      "text/plain": [
       "dataset                          grafo-propio\n",
       "instancia                                G-21\n",
       "n                                          21\n",
       "m                                         210\n",
       "archivo      instancias/grafo-propio/G-21.txt\n",
       "Name: 18, dtype: object"
      ]
     },
     "metadata": {},
     "output_type": "display_data"
    },
    {
     "data": {
      "text/plain": [
       "dataset                          grafo-propio\n",
       "instancia                                G-22\n",
       "n                                          22\n",
       "m                                         231\n",
       "archivo      instancias/grafo-propio/G-22.txt\n",
       "Name: 19, dtype: object"
      ]
     },
     "metadata": {},
     "output_type": "display_data"
    },
    {
     "data": {
      "text/plain": [
       "dataset                          grafo-propio\n",
       "instancia                                G-23\n",
       "n                                          23\n",
       "m                                         253\n",
       "archivo      instancias/grafo-propio/G-23.txt\n",
       "Name: 20, dtype: object"
      ]
     },
     "metadata": {},
     "output_type": "display_data"
    },
    {
     "data": {
      "text/plain": [
       "dataset                          grafo-propio\n",
       "instancia                                G-24\n",
       "n                                          24\n",
       "m                                         276\n",
       "archivo      instancias/grafo-propio/G-24.txt\n",
       "Name: 21, dtype: object"
      ]
     },
     "metadata": {},
     "output_type": "display_data"
    },
    {
     "data": {
      "text/plain": [
       "dataset                          grafo-propio\n",
       "instancia                                G-25\n",
       "n                                          25\n",
       "m                                         300\n",
       "archivo      instancias/grafo-propio/G-25.txt\n",
       "Name: 22, dtype: object"
      ]
     },
     "metadata": {},
     "output_type": "display_data"
    },
    {
     "data": {
      "text/plain": [
       "dataset                          grafo-propio\n",
       "instancia                                G-26\n",
       "n                                          26\n",
       "m                                         325\n",
       "archivo      instancias/grafo-propio/G-26.txt\n",
       "Name: 23, dtype: object"
      ]
     },
     "metadata": {},
     "output_type": "display_data"
    },
    {
     "data": {
      "text/plain": [
       "dataset                          grafo-propio\n",
       "instancia                                G-27\n",
       "n                                          27\n",
       "m                                         351\n",
       "archivo      instancias/grafo-propio/G-27.txt\n",
       "Name: 24, dtype: object"
      ]
     },
     "metadata": {},
     "output_type": "display_data"
    },
    {
     "data": {
      "text/plain": [
       "dataset                          grafo-propio\n",
       "instancia                                G-28\n",
       "n                                          28\n",
       "m                                         378\n",
       "archivo      instancias/grafo-propio/G-28.txt\n",
       "Name: 25, dtype: object"
      ]
     },
     "metadata": {},
     "output_type": "display_data"
    },
    {
     "data": {
      "text/plain": [
       "dataset                          grafo-propio\n",
       "instancia                                G-29\n",
       "n                                          29\n",
       "m                                         406\n",
       "archivo      instancias/grafo-propio/G-29.txt\n",
       "Name: 26, dtype: object"
      ]
     },
     "metadata": {},
     "output_type": "display_data"
    },
    {
     "data": {
      "text/plain": [
       "dataset                          grafo-propio\n",
       "instancia                                G-30\n",
       "n                                          30\n",
       "m                                         435\n",
       "archivo      instancias/grafo-propio/G-30.txt\n",
       "Name: 27, dtype: object"
      ]
     },
     "metadata": {},
     "output_type": "display_data"
    },
    {
     "data": {
      "text/plain": [
       "dataset                          grafo-propio\n",
       "instancia                                G-31\n",
       "n                                          31\n",
       "m                                         465\n",
       "archivo      instancias/grafo-propio/G-31.txt\n",
       "Name: 28, dtype: object"
      ]
     },
     "metadata": {},
     "output_type": "display_data"
    },
    {
     "data": {
      "text/plain": [
       "dataset                          grafo-propio\n",
       "instancia                                G-32\n",
       "n                                          32\n",
       "m                                         496\n",
       "archivo      instancias/grafo-propio/G-32.txt\n",
       "Name: 29, dtype: object"
      ]
     },
     "metadata": {},
     "output_type": "display_data"
    },
    {
     "data": {
      "text/plain": [
       "dataset                          grafo-propio\n",
       "instancia                                G-33\n",
       "n                                          33\n",
       "m                                         528\n",
       "archivo      instancias/grafo-propio/G-33.txt\n",
       "Name: 30, dtype: object"
      ]
     },
     "metadata": {},
     "output_type": "display_data"
    },
    {
     "data": {
      "text/plain": [
       "dataset                          grafo-propio\n",
       "instancia                                G-34\n",
       "n                                          34\n",
       "m                                         561\n",
       "archivo      instancias/grafo-propio/G-34.txt\n",
       "Name: 31, dtype: object"
      ]
     },
     "metadata": {},
     "output_type": "display_data"
    },
    {
     "data": {
      "text/plain": [
       "dataset                          grafo-propio\n",
       "instancia                                G-35\n",
       "n                                          35\n",
       "m                                         595\n",
       "archivo      instancias/grafo-propio/G-35.txt\n",
       "Name: 32, dtype: object"
      ]
     },
     "metadata": {},
     "output_type": "display_data"
    },
    {
     "data": {
      "text/plain": [
       "dataset                          grafo-propio\n",
       "instancia                                G-36\n",
       "n                                          36\n",
       "m                                         630\n",
       "archivo      instancias/grafo-propio/G-36.txt\n",
       "Name: 33, dtype: object"
      ]
     },
     "metadata": {},
     "output_type": "display_data"
    },
    {
     "data": {
      "text/plain": [
       "dataset                          grafo-propio\n",
       "instancia                                G-37\n",
       "n                                          37\n",
       "m                                         666\n",
       "archivo      instancias/grafo-propio/G-37.txt\n",
       "Name: 34, dtype: object"
      ]
     },
     "metadata": {},
     "output_type": "display_data"
    },
    {
     "data": {
      "text/plain": [
       "dataset                          grafo-propio\n",
       "instancia                                G-38\n",
       "n                                          38\n",
       "m                                         703\n",
       "archivo      instancias/grafo-propio/G-38.txt\n",
       "Name: 35, dtype: object"
      ]
     },
     "metadata": {},
     "output_type": "display_data"
    },
    {
     "data": {
      "text/plain": [
       "dataset                          grafo-propio\n",
       "instancia                                G-39\n",
       "n                                          39\n",
       "m                                         741\n",
       "archivo      instancias/grafo-propio/G-39.txt\n",
       "Name: 36, dtype: object"
      ]
     },
     "metadata": {},
     "output_type": "display_data"
    },
    {
     "data": {
      "text/plain": [
       "dataset                          grafo-propio\n",
       "instancia                                G-40\n",
       "n                                          40\n",
       "m                                         780\n",
       "archivo      instancias/grafo-propio/G-40.txt\n",
       "Name: 37, dtype: object"
      ]
     },
     "metadata": {},
     "output_type": "display_data"
    },
    {
     "data": {
      "text/plain": [
       "dataset                          grafo-propio\n",
       "instancia                                G-41\n",
       "n                                          41\n",
       "m                                         820\n",
       "archivo      instancias/grafo-propio/G-41.txt\n",
       "Name: 38, dtype: object"
      ]
     },
     "metadata": {},
     "output_type": "display_data"
    },
    {
     "data": {
      "text/plain": [
       "dataset                          grafo-propio\n",
       "instancia                                G-42\n",
       "n                                          42\n",
       "m                                         861\n",
       "archivo      instancias/grafo-propio/G-42.txt\n",
       "Name: 39, dtype: object"
      ]
     },
     "metadata": {},
     "output_type": "display_data"
    },
    {
     "data": {
      "text/plain": [
       "dataset                          grafo-propio\n",
       "instancia                                G-43\n",
       "n                                          43\n",
       "m                                         903\n",
       "archivo      instancias/grafo-propio/G-43.txt\n",
       "Name: 40, dtype: object"
      ]
     },
     "metadata": {},
     "output_type": "display_data"
    },
    {
     "data": {
      "text/plain": [
       "dataset                          grafo-propio\n",
       "instancia                                G-44\n",
       "n                                          44\n",
       "m                                         946\n",
       "archivo      instancias/grafo-propio/G-44.txt\n",
       "Name: 41, dtype: object"
      ]
     },
     "metadata": {},
     "output_type": "display_data"
    },
    {
     "data": {
      "text/plain": [
       "dataset                          grafo-propio\n",
       "instancia                                G-45\n",
       "n                                          45\n",
       "m                                         990\n",
       "archivo      instancias/grafo-propio/G-45.txt\n",
       "Name: 42, dtype: object"
      ]
     },
     "metadata": {},
     "output_type": "display_data"
    },
    {
     "data": {
      "text/plain": [
       "dataset                          grafo-propio\n",
       "instancia                                G-46\n",
       "n                                          46\n",
       "m                                        1035\n",
       "archivo      instancias/grafo-propio/G-46.txt\n",
       "Name: 43, dtype: object"
      ]
     },
     "metadata": {},
     "output_type": "display_data"
    },
    {
     "data": {
      "text/plain": [
       "dataset                          grafo-propio\n",
       "instancia                                G-47\n",
       "n                                          47\n",
       "m                                        1081\n",
       "archivo      instancias/grafo-propio/G-47.txt\n",
       "Name: 44, dtype: object"
      ]
     },
     "metadata": {},
     "output_type": "display_data"
    },
    {
     "data": {
      "text/plain": [
       "dataset                          grafo-propio\n",
       "instancia                                G-48\n",
       "n                                          48\n",
       "m                                        1128\n",
       "archivo      instancias/grafo-propio/G-48.txt\n",
       "Name: 45, dtype: object"
      ]
     },
     "metadata": {},
     "output_type": "display_data"
    },
    {
     "data": {
      "text/plain": [
       "dataset                          grafo-propio\n",
       "instancia                                G-49\n",
       "n                                          49\n",
       "m                                        1176\n",
       "archivo      instancias/grafo-propio/G-49.txt\n",
       "Name: 46, dtype: object"
      ]
     },
     "metadata": {},
     "output_type": "display_data"
    },
    {
     "data": {
      "text/plain": [
       "dataset                          grafo-propio\n",
       "instancia                                G-50\n",
       "n                                          50\n",
       "m                                        1225\n",
       "archivo      instancias/grafo-propio/G-50.txt\n",
       "Name: 47, dtype: object"
      ]
     },
     "metadata": {},
     "output_type": "display_data"
    },
    {
     "data": {
      "text/plain": [
       "dataset                          grafo-propio\n",
       "instancia                                G-51\n",
       "n                                          51\n",
       "m                                        1275\n",
       "archivo      instancias/grafo-propio/G-51.txt\n",
       "Name: 48, dtype: object"
      ]
     },
     "metadata": {},
     "output_type": "display_data"
    },
    {
     "data": {
      "text/plain": [
       "dataset                          grafo-propio\n",
       "instancia                                G-52\n",
       "n                                          52\n",
       "m                                        1326\n",
       "archivo      instancias/grafo-propio/G-52.txt\n",
       "Name: 49, dtype: object"
      ]
     },
     "metadata": {},
     "output_type": "display_data"
    },
    {
     "data": {
      "text/plain": [
       "dataset                          grafo-propio\n",
       "instancia                                G-53\n",
       "n                                          53\n",
       "m                                        1378\n",
       "archivo      instancias/grafo-propio/G-53.txt\n",
       "Name: 50, dtype: object"
      ]
     },
     "metadata": {},
     "output_type": "display_data"
    },
    {
     "data": {
      "text/plain": [
       "dataset                          grafo-propio\n",
       "instancia                                G-54\n",
       "n                                          54\n",
       "m                                        1431\n",
       "archivo      instancias/grafo-propio/G-54.txt\n",
       "Name: 51, dtype: object"
      ]
     },
     "metadata": {},
     "output_type": "display_data"
    },
    {
     "data": {
      "text/plain": [
       "dataset                          grafo-propio\n",
       "instancia                                G-55\n",
       "n                                          55\n",
       "m                                        1485\n",
       "archivo      instancias/grafo-propio/G-55.txt\n",
       "Name: 52, dtype: object"
      ]
     },
     "metadata": {},
     "output_type": "display_data"
    },
    {
     "data": {
      "text/plain": [
       "dataset                          grafo-propio\n",
       "instancia                                G-56\n",
       "n                                          56\n",
       "m                                        1540\n",
       "archivo      instancias/grafo-propio/G-56.txt\n",
       "Name: 53, dtype: object"
      ]
     },
     "metadata": {},
     "output_type": "display_data"
    },
    {
     "data": {
      "text/plain": [
       "dataset                          grafo-propio\n",
       "instancia                                G-57\n",
       "n                                          57\n",
       "m                                        1596\n",
       "archivo      instancias/grafo-propio/G-57.txt\n",
       "Name: 54, dtype: object"
      ]
     },
     "metadata": {},
     "output_type": "display_data"
    },
    {
     "data": {
      "text/plain": [
       "dataset                          grafo-propio\n",
       "instancia                                G-58\n",
       "n                                          58\n",
       "m                                        1653\n",
       "archivo      instancias/grafo-propio/G-58.txt\n",
       "Name: 55, dtype: object"
      ]
     },
     "metadata": {},
     "output_type": "display_data"
    },
    {
     "data": {
      "text/plain": [
       "dataset                          grafo-propio\n",
       "instancia                                G-59\n",
       "n                                          59\n",
       "m                                        1711\n",
       "archivo      instancias/grafo-propio/G-59.txt\n",
       "Name: 56, dtype: object"
      ]
     },
     "metadata": {},
     "output_type": "display_data"
    },
    {
     "data": {
      "text/plain": [
       "dataset                          grafo-propio\n",
       "instancia                                G-60\n",
       "n                                          60\n",
       "m                                        1770\n",
       "archivo      instancias/grafo-propio/G-60.txt\n",
       "Name: 57, dtype: object"
      ]
     },
     "metadata": {},
     "output_type": "display_data"
    },
    {
     "data": {
      "text/plain": [
       "dataset                          grafo-propio\n",
       "instancia                                G-61\n",
       "n                                          61\n",
       "m                                        1830\n",
       "archivo      instancias/grafo-propio/G-61.txt\n",
       "Name: 58, dtype: object"
      ]
     },
     "metadata": {},
     "output_type": "display_data"
    },
    {
     "data": {
      "text/plain": [
       "dataset                          grafo-propio\n",
       "instancia                                G-62\n",
       "n                                          62\n",
       "m                                        1891\n",
       "archivo      instancias/grafo-propio/G-62.txt\n",
       "Name: 59, dtype: object"
      ]
     },
     "metadata": {},
     "output_type": "display_data"
    },
    {
     "data": {
      "text/plain": [
       "dataset                          grafo-propio\n",
       "instancia                                G-63\n",
       "n                                          63\n",
       "m                                        1953\n",
       "archivo      instancias/grafo-propio/G-63.txt\n",
       "Name: 60, dtype: object"
      ]
     },
     "metadata": {},
     "output_type": "display_data"
    },
    {
     "data": {
      "text/plain": [
       "dataset                          grafo-propio\n",
       "instancia                                G-64\n",
       "n                                          64\n",
       "m                                        2016\n",
       "archivo      instancias/grafo-propio/G-64.txt\n",
       "Name: 61, dtype: object"
      ]
     },
     "metadata": {},
     "output_type": "display_data"
    },
    {
     "data": {
      "text/plain": [
       "dataset                          grafo-propio\n",
       "instancia                                G-65\n",
       "n                                          65\n",
       "m                                        2080\n",
       "archivo      instancias/grafo-propio/G-65.txt\n",
       "Name: 62, dtype: object"
      ]
     },
     "metadata": {},
     "output_type": "display_data"
    },
    {
     "data": {
      "text/plain": [
       "dataset                          grafo-propio\n",
       "instancia                                G-66\n",
       "n                                          66\n",
       "m                                        2145\n",
       "archivo      instancias/grafo-propio/G-66.txt\n",
       "Name: 63, dtype: object"
      ]
     },
     "metadata": {},
     "output_type": "display_data"
    },
    {
     "data": {
      "text/plain": [
       "dataset                          grafo-propio\n",
       "instancia                                G-67\n",
       "n                                          67\n",
       "m                                        2211\n",
       "archivo      instancias/grafo-propio/G-67.txt\n",
       "Name: 64, dtype: object"
      ]
     },
     "metadata": {},
     "output_type": "display_data"
    },
    {
     "data": {
      "text/plain": [
       "dataset                          grafo-propio\n",
       "instancia                                G-68\n",
       "n                                          68\n",
       "m                                        2278\n",
       "archivo      instancias/grafo-propio/G-68.txt\n",
       "Name: 65, dtype: object"
      ]
     },
     "metadata": {},
     "output_type": "display_data"
    },
    {
     "data": {
      "text/plain": [
       "dataset                          grafo-propio\n",
       "instancia                                G-69\n",
       "n                                          69\n",
       "m                                        2346\n",
       "archivo      instancias/grafo-propio/G-69.txt\n",
       "Name: 66, dtype: object"
      ]
     },
     "metadata": {},
     "output_type": "display_data"
    },
    {
     "data": {
      "text/plain": [
       "dataset                          grafo-propio\n",
       "instancia                                G-70\n",
       "n                                          70\n",
       "m                                        2415\n",
       "archivo      instancias/grafo-propio/G-70.txt\n",
       "Name: 67, dtype: object"
      ]
     },
     "metadata": {},
     "output_type": "display_data"
    },
    {
     "data": {
      "text/plain": [
       "dataset                          grafo-propio\n",
       "instancia                                G-71\n",
       "n                                          71\n",
       "m                                        2485\n",
       "archivo      instancias/grafo-propio/G-71.txt\n",
       "Name: 68, dtype: object"
      ]
     },
     "metadata": {},
     "output_type": "display_data"
    },
    {
     "data": {
      "text/plain": [
       "dataset                          grafo-propio\n",
       "instancia                                G-72\n",
       "n                                          72\n",
       "m                                        2556\n",
       "archivo      instancias/grafo-propio/G-72.txt\n",
       "Name: 69, dtype: object"
      ]
     },
     "metadata": {},
     "output_type": "display_data"
    },
    {
     "data": {
      "text/plain": [
       "dataset                          grafo-propio\n",
       "instancia                                G-73\n",
       "n                                          73\n",
       "m                                        2628\n",
       "archivo      instancias/grafo-propio/G-73.txt\n",
       "Name: 70, dtype: object"
      ]
     },
     "metadata": {},
     "output_type": "display_data"
    },
    {
     "data": {
      "text/plain": [
       "dataset                          grafo-propio\n",
       "instancia                                G-74\n",
       "n                                          74\n",
       "m                                        2701\n",
       "archivo      instancias/grafo-propio/G-74.txt\n",
       "Name: 71, dtype: object"
      ]
     },
     "metadata": {},
     "output_type": "display_data"
    },
    {
     "data": {
      "text/plain": [
       "dataset                          grafo-propio\n",
       "instancia                                G-75\n",
       "n                                          75\n",
       "m                                        2775\n",
       "archivo      instancias/grafo-propio/G-75.txt\n",
       "Name: 72, dtype: object"
      ]
     },
     "metadata": {},
     "output_type": "display_data"
    },
    {
     "data": {
      "text/plain": [
       "dataset                          grafo-propio\n",
       "instancia                                G-76\n",
       "n                                          76\n",
       "m                                        2850\n",
       "archivo      instancias/grafo-propio/G-76.txt\n",
       "Name: 73, dtype: object"
      ]
     },
     "metadata": {},
     "output_type": "display_data"
    },
    {
     "data": {
      "text/plain": [
       "dataset                          grafo-propio\n",
       "instancia                                G-77\n",
       "n                                          77\n",
       "m                                        2926\n",
       "archivo      instancias/grafo-propio/G-77.txt\n",
       "Name: 74, dtype: object"
      ]
     },
     "metadata": {},
     "output_type": "display_data"
    },
    {
     "data": {
      "text/plain": [
       "dataset                          grafo-propio\n",
       "instancia                                G-78\n",
       "n                                          78\n",
       "m                                        3003\n",
       "archivo      instancias/grafo-propio/G-78.txt\n",
       "Name: 75, dtype: object"
      ]
     },
     "metadata": {},
     "output_type": "display_data"
    },
    {
     "data": {
      "text/plain": [
       "dataset                          grafo-propio\n",
       "instancia                                G-79\n",
       "n                                          79\n",
       "m                                        3081\n",
       "archivo      instancias/grafo-propio/G-79.txt\n",
       "Name: 76, dtype: object"
      ]
     },
     "metadata": {},
     "output_type": "display_data"
    },
    {
     "data": {
      "text/plain": [
       "dataset                          grafo-propio\n",
       "instancia                                G-80\n",
       "n                                          80\n",
       "m                                        3160\n",
       "archivo      instancias/grafo-propio/G-80.txt\n",
       "Name: 77, dtype: object"
      ]
     },
     "metadata": {},
     "output_type": "display_data"
    },
    {
     "data": {
      "text/plain": [
       "dataset                          grafo-propio\n",
       "instancia                                G-81\n",
       "n                                          81\n",
       "m                                        3240\n",
       "archivo      instancias/grafo-propio/G-81.txt\n",
       "Name: 78, dtype: object"
      ]
     },
     "metadata": {},
     "output_type": "display_data"
    },
    {
     "data": {
      "text/plain": [
       "dataset                          grafo-propio\n",
       "instancia                                G-82\n",
       "n                                          82\n",
       "m                                        3321\n",
       "archivo      instancias/grafo-propio/G-82.txt\n",
       "Name: 79, dtype: object"
      ]
     },
     "metadata": {},
     "output_type": "display_data"
    },
    {
     "data": {
      "text/plain": [
       "dataset                          grafo-propio\n",
       "instancia                                G-83\n",
       "n                                          83\n",
       "m                                        3403\n",
       "archivo      instancias/grafo-propio/G-83.txt\n",
       "Name: 80, dtype: object"
      ]
     },
     "metadata": {},
     "output_type": "display_data"
    },
    {
     "data": {
      "text/plain": [
       "dataset                          grafo-propio\n",
       "instancia                                G-84\n",
       "n                                          84\n",
       "m                                        3486\n",
       "archivo      instancias/grafo-propio/G-84.txt\n",
       "Name: 81, dtype: object"
      ]
     },
     "metadata": {},
     "output_type": "display_data"
    },
    {
     "data": {
      "text/plain": [
       "dataset                          grafo-propio\n",
       "instancia                                G-85\n",
       "n                                          85\n",
       "m                                        3570\n",
       "archivo      instancias/grafo-propio/G-85.txt\n",
       "Name: 82, dtype: object"
      ]
     },
     "metadata": {},
     "output_type": "display_data"
    },
    {
     "data": {
      "text/plain": [
       "dataset                          grafo-propio\n",
       "instancia                                G-86\n",
       "n                                          86\n",
       "m                                        3655\n",
       "archivo      instancias/grafo-propio/G-86.txt\n",
       "Name: 83, dtype: object"
      ]
     },
     "metadata": {},
     "output_type": "display_data"
    },
    {
     "data": {
      "text/plain": [
       "dataset                          grafo-propio\n",
       "instancia                                G-87\n",
       "n                                          87\n",
       "m                                        3741\n",
       "archivo      instancias/grafo-propio/G-87.txt\n",
       "Name: 84, dtype: object"
      ]
     },
     "metadata": {},
     "output_type": "display_data"
    },
    {
     "data": {
      "text/plain": [
       "dataset                          grafo-propio\n",
       "instancia                                G-88\n",
       "n                                          88\n",
       "m                                        3828\n",
       "archivo      instancias/grafo-propio/G-88.txt\n",
       "Name: 85, dtype: object"
      ]
     },
     "metadata": {},
     "output_type": "display_data"
    },
    {
     "data": {
      "text/plain": [
       "dataset                          grafo-propio\n",
       "instancia                                G-89\n",
       "n                                          89\n",
       "m                                        3916\n",
       "archivo      instancias/grafo-propio/G-89.txt\n",
       "Name: 86, dtype: object"
      ]
     },
     "metadata": {},
     "output_type": "display_data"
    },
    {
     "data": {
      "text/plain": [
       "dataset                          grafo-propio\n",
       "instancia                                G-90\n",
       "n                                          90\n",
       "m                                        4005\n",
       "archivo      instancias/grafo-propio/G-90.txt\n",
       "Name: 87, dtype: object"
      ]
     },
     "metadata": {},
     "output_type": "display_data"
    },
    {
     "data": {
      "text/plain": [
       "dataset                          grafo-propio\n",
       "instancia                                G-91\n",
       "n                                          91\n",
       "m                                        4095\n",
       "archivo      instancias/grafo-propio/G-91.txt\n",
       "Name: 88, dtype: object"
      ]
     },
     "metadata": {},
     "output_type": "display_data"
    },
    {
     "data": {
      "text/plain": [
       "dataset                          grafo-propio\n",
       "instancia                                G-92\n",
       "n                                          92\n",
       "m                                        4186\n",
       "archivo      instancias/grafo-propio/G-92.txt\n",
       "Name: 89, dtype: object"
      ]
     },
     "metadata": {},
     "output_type": "display_data"
    },
    {
     "data": {
      "text/plain": [
       "dataset                          grafo-propio\n",
       "instancia                                G-93\n",
       "n                                          93\n",
       "m                                        4278\n",
       "archivo      instancias/grafo-propio/G-93.txt\n",
       "Name: 90, dtype: object"
      ]
     },
     "metadata": {},
     "output_type": "display_data"
    },
    {
     "data": {
      "text/plain": [
       "dataset                          grafo-propio\n",
       "instancia                                G-94\n",
       "n                                          94\n",
       "m                                        4371\n",
       "archivo      instancias/grafo-propio/G-94.txt\n",
       "Name: 91, dtype: object"
      ]
     },
     "metadata": {},
     "output_type": "display_data"
    },
    {
     "data": {
      "text/plain": [
       "dataset                          grafo-propio\n",
       "instancia                                G-95\n",
       "n                                          95\n",
       "m                                        4465\n",
       "archivo      instancias/grafo-propio/G-95.txt\n",
       "Name: 92, dtype: object"
      ]
     },
     "metadata": {},
     "output_type": "display_data"
    },
    {
     "data": {
      "text/plain": [
       "dataset                          grafo-propio\n",
       "instancia                                G-96\n",
       "n                                          96\n",
       "m                                        4560\n",
       "archivo      instancias/grafo-propio/G-96.txt\n",
       "Name: 93, dtype: object"
      ]
     },
     "metadata": {},
     "output_type": "display_data"
    },
    {
     "data": {
      "text/plain": [
       "dataset                          grafo-propio\n",
       "instancia                                G-97\n",
       "n                                          97\n",
       "m                                        4656\n",
       "archivo      instancias/grafo-propio/G-97.txt\n",
       "Name: 94, dtype: object"
      ]
     },
     "metadata": {},
     "output_type": "display_data"
    },
    {
     "data": {
      "text/plain": [
       "dataset                          grafo-propio\n",
       "instancia                                G-98\n",
       "n                                          98\n",
       "m                                        4753\n",
       "archivo      instancias/grafo-propio/G-98.txt\n",
       "Name: 95, dtype: object"
      ]
     },
     "metadata": {},
     "output_type": "display_data"
    },
    {
     "data": {
      "text/plain": [
       "dataset                          grafo-propio\n",
       "instancia                                G-99\n",
       "n                                          99\n",
       "m                                        4851\n",
       "archivo      instancias/grafo-propio/G-99.txt\n",
       "Name: 96, dtype: object"
      ]
     },
     "metadata": {},
     "output_type": "display_data"
    },
    {
     "data": {
      "text/plain": [
       "dataset                           grafo-propio\n",
       "instancia                                G-100\n",
       "n                                          100\n",
       "m                                         4950\n",
       "archivo      instancias/grafo-propio/G-100.txt\n",
       "Name: 97, dtype: object"
      ]
     },
     "metadata": {},
     "output_type": "display_data"
    },
    {
     "data": {
      "text/plain": [
       "dataset                           grafo-propio\n",
       "instancia                                G-101\n",
       "n                                          101\n",
       "m                                         5050\n",
       "archivo      instancias/grafo-propio/G-101.txt\n",
       "Name: 98, dtype: object"
      ]
     },
     "metadata": {},
     "output_type": "display_data"
    },
    {
     "data": {
      "text/plain": [
       "dataset                           grafo-propio\n",
       "instancia                                G-102\n",
       "n                                          102\n",
       "m                                         5151\n",
       "archivo      instancias/grafo-propio/G-102.txt\n",
       "Name: 99, dtype: object"
      ]
     },
     "metadata": {},
     "output_type": "display_data"
    }
   ],
   "source": [
    "\n",
    "for n in range(0, df_grafos_propios.shape[0]):\n",
    "    fila_n = df_grafos_propios.iloc[n];\n",
    "    for algo in algoritmos:\n",
    "        experimentos.append([fila_n[\"dataset\"], fila_n[\"n\"], fila_n[\"m\"], algo, fila_n[\"archivo\"]]);\n",
    " "
   ]
  },
  {
   "cell_type": "markdown",
   "metadata": {},
   "source": [
    "## Ejecutar los experimentos y guardar los resultados en un archivo CSV.\n",
    "Este paso puede tardar unos minutos hasta terminar de ejecutarse."
   ]
  },
  {
   "cell_type": "code",
   "execution_count": null,
   "metadata": {
    "scrolled": true
   },
   "outputs": [
    {
     "data": {
      "text/plain": [
       "'Experimento: 494/500'"
      ]
     },
     "metadata": {},
     "output_type": "display_data"
    },
    {
     "data": {
      "text/plain": [
       "'TABU_CICLOS'"
      ]
     },
     "metadata": {},
     "output_type": "display_data"
    },
    {
     "data": {
      "text/plain": [
       "'TABU_CICLOS'"
      ]
     },
     "metadata": {},
     "output_type": "display_data"
    },
    {
     "data": {
      "text/plain": [
       "'TABU_CICLOS'"
      ]
     },
     "metadata": {},
     "output_type": "display_data"
    }
   ],
   "source": [
    "columnas = [\"dataset\", \"n\", \"m\", \"metodo\", \"tiempo\", \"costo\"];\n",
    "filas = [];\n",
    "numero = 1\n",
    "T = 5 # Numero de veces que se ejecuta cada experimento (para mayor fidelidad del tiempo).\n",
    "for experimento in experimentos:\n",
    "    # Voy mostrando que experimento se esta ejecutando.\n",
    "    clear_output(wait=True)\n",
    "    display('Experimento: ' + str(numero) + \"/\" + str(len(experimentos)))\n",
    "    numero += 1\n",
    "    \n",
    "    # Ejecutamos el experimento T veces y obtenemos la mediana.\n",
    "    costos  = []\n",
    "    tiempos = []\n",
    "    for i in range(0, T):\n",
    "        resultado = correr_experimento(experimento[3], experimento[4])\n",
    "        algoritmo = experimento[4]\n",
    "        costos.append(resultado[2])\n",
    "        tiempos.append(resultado[0]);\n",
    "    costo = min(costos)\n",
    "    tiempo = np.mean(tiempos);\n",
    "    filas.append([experimento[0], experimento[1], experimento[2], experimento[3], tiempo,costo ]);\n",
    "df_resultado = pd.DataFrame(filas, columns=columnas);\n",
    "df_resultado.to_csv(\"resultados/resultado.csv\", index=False, header=True);"
   ]
  },
  {
   "cell_type": "code",
   "execution_count": null,
   "metadata": {},
   "outputs": [],
   "source": []
  },
  {
   "cell_type": "code",
   "execution_count": null,
   "metadata": {},
   "outputs": [],
   "source": []
  }
 ],
 "metadata": {
  "kernelspec": {
   "display_name": "Python 3",
   "language": "python",
   "name": "python3"
  },
  "language_info": {
   "codemirror_mode": {
    "name": "ipython",
    "version": 3
   },
   "file_extension": ".py",
   "mimetype": "text/x-python",
   "name": "python",
   "nbconvert_exporter": "python",
   "pygments_lexer": "ipython3",
   "version": "3.7.3"
  }
 },
 "nbformat": 4,
 "nbformat_minor": 4
}
