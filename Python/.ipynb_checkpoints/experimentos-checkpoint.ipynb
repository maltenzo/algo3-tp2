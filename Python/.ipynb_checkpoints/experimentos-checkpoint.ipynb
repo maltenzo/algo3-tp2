{
 "cells": [
  {
   "cell_type": "markdown",
   "metadata": {},
   "source": [
    "# Correr experimentos\n",
    "En este archivo está el código para correr los experimentos y escribir los resultados en archivos CSV.\n",
    "> Los archivos se guardan en la carpeta _resultados_."
   ]
  },
  {
   "cell_type": "code",
   "execution_count": 3,
   "metadata": {},
   "outputs": [],
   "source": [
    "import math, subprocess\n",
    "import os\n",
    "import pandas as pd\n",
    "import numpy as np\n",
    "from IPython.display import display, clear_output"
   ]
  },
  {
   "cell_type": "markdown",
   "metadata": {},
   "source": [
    "A continuación leemos los datasets en dataframes de Pandas."
   ]
  },
  {
   "cell_type": "code",
   "execution_count": 4,
   "metadata": {},
   "outputs": [],
   "source": [
    "def leer_instancia(path_instancia):\n",
    "    with open(path_instancia, \"r\") as f:\n",
    "        return f.read();\n",
    "\n",
    "\n",
    "df_grafos_propios = pd.read_csv(\"instancias/grafo-propio/indice.csv\");\n",
    "df_grafos_opt = pd.read_csv(\"instancias/descargas/indice.csv\");\n",
    "df_peor_caso_AGM = pd.read_csv(\"instancias/peor-caso-agm/indice.csv\");\n",
    "\n"
   ]
  },
  {
   "cell_type": "markdown",
   "metadata": {},
   "source": [
    "La siguiente función sirve para correr el código sobre una instancia ejecutando un método en particular.\n",
    "Metodos:\n",
    "- agm\n",
    "- ins\n",
    "- GA\n",
    "- TABU_CICLOS\n",
    "- TABU_ESTRUCTURA\n"
   ]
  },
  {
   "cell_type": "code",
   "execution_count": 5,
   "metadata": {},
   "outputs": [],
   "source": [
    "def correr_experimento(metodo, archivo_instancia):\n",
    "    # Leer archivo de la instancia.\n",
    "    instancia = leer_instancia(archivo_instancia)\n",
    "    display(metodo)\n",
    "    #print(instancia)\n",
    "    \n",
    "    \n",
    "    # Crear proceso para ejecutar el codigo.\n",
    "    process = subprocess.Popen([\"../TSP\", metodo], stderr=subprocess.PIPE, stdout=subprocess.PIPE, stdin=subprocess.PIPE, universal_newlines = True)\n",
    "\n",
    "    # Poner la instancia en la entrada estandar.\n",
    "    process.stdin.write(instancia)\n",
    "    process.stdin.flush()\n",
    "\n",
    "    # Correr experimento.\n",
    "    exit_code = process.wait()\n",
    "\n",
    "    # Verificar que el proceso no fallo.\n",
    "    if exit_code != 0: raise(F\"Hubo un error en la experimentacion para el algoritmo: {algoritmo} con la instancia {archivo_instancia}.\")\n",
    "    # Leer salida de STDERR con los tiempos de ejecucion de cada metodo.\n",
    "    tiempo_de_ejecucion = float(process.stderr.read());\n",
    "    res = process.stdout.read().split(\" \")\n",
    "    tam = res[0] #tamaño del ciclo\n",
    "    pyc =res[1].split(\"\\n\")\n",
    "    peso = pyc[0] #peso del ciclo\n",
    "    ciclo = pyc[1] #ciclo\n",
    "\n",
    "    \n",
    "    process.stdin.close();\n",
    "    process.stdout.close();\n",
    "    process.stderr.close();\n",
    "    \n",
    "    return [tiempo_de_ejecucion, tam, peso, ciclo]; #devuelvo un par de cosas extra por si las queremos usar"
   ]
  },
  {
   "cell_type": "markdown",
   "metadata": {},
   "source": [
    "# Corremos los experimentos\n",
    "Vamos a guardar una tabla con las ejecuciones y sus respectivos tiempos.\n",
    "\n",
    "### Importante la celda de abajo para generar los experimentos!!"
   ]
  },
  {
   "cell_type": "code",
   "execution_count": 7,
   "metadata": {},
   "outputs": [],
   "source": [
    "experimentos = [];\n",
    "#algoritmos = [\"ins\", \"agm\", \"GA\",  \"TABU_CICLOS\", \"TABU_ESTRUCTURA\"]\n",
    "algoritmos =[\"ins\", \"agm\", \"GA\",  \"TABU_CICLOS\", \"TABU_ESTRUCTURA\"]; #de prueba para ver que funciona\n",
    "algoritmos_tabu = [\"TABU_CICLOS\", \"TABU_ESTRUCTURA\"] # Para los experimentos de parametros"
   ]
  },
  {
   "cell_type": "markdown",
   "metadata": {},
   "source": [
    "### Armado de experimentos grafos random"
   ]
  },
  {
   "cell_type": "code",
   "execution_count": 1,
   "metadata": {},
   "outputs": [
    {
     "ename": "NameError",
     "evalue": "name 'df_grafos_propios' is not defined",
     "output_type": "error",
     "traceback": [
      "\u001b[0;31m---------------------------------------------------------------------------\u001b[0m",
      "\u001b[0;31mNameError\u001b[0m                                 Traceback (most recent call last)",
      "\u001b[0;32m<ipython-input-1-42a845a7b547>\u001b[0m in \u001b[0;36m<module>\u001b[0;34m\u001b[0m\n\u001b[0;32m----> 1\u001b[0;31m \u001b[0;32mfor\u001b[0m \u001b[0mn\u001b[0m \u001b[0;32min\u001b[0m \u001b[0mrange\u001b[0m\u001b[0;34m(\u001b[0m\u001b[0;36m0\u001b[0m\u001b[0;34m,\u001b[0m \u001b[0mdf_grafos_propios\u001b[0m\u001b[0;34m.\u001b[0m\u001b[0mshape\u001b[0m\u001b[0;34m[\u001b[0m\u001b[0;36m0\u001b[0m\u001b[0;34m]\u001b[0m\u001b[0;34m)\u001b[0m\u001b[0;34m:\u001b[0m\u001b[0;34m\u001b[0m\u001b[0;34m\u001b[0m\u001b[0m\n\u001b[0m\u001b[1;32m      2\u001b[0m     \u001b[0mfila_n\u001b[0m \u001b[0;34m=\u001b[0m \u001b[0mdf_grafos_propios\u001b[0m\u001b[0;34m.\u001b[0m\u001b[0miloc\u001b[0m\u001b[0;34m[\u001b[0m\u001b[0mn\u001b[0m\u001b[0;34m]\u001b[0m\u001b[0;34m;\u001b[0m\u001b[0;34m\u001b[0m\u001b[0;34m\u001b[0m\u001b[0m\n\u001b[1;32m      3\u001b[0m     \u001b[0;32mfor\u001b[0m \u001b[0malgo\u001b[0m \u001b[0;32min\u001b[0m \u001b[0malgoritmos\u001b[0m\u001b[0;34m:\u001b[0m\u001b[0;34m\u001b[0m\u001b[0;34m\u001b[0m\u001b[0m\n\u001b[1;32m      4\u001b[0m         \u001b[0mexperimentos\u001b[0m\u001b[0;34m.\u001b[0m\u001b[0mappend\u001b[0m\u001b[0;34m(\u001b[0m\u001b[0;34m[\u001b[0m\u001b[0mfila_n\u001b[0m\u001b[0;34m[\u001b[0m\u001b[0;34m\"dataset\"\u001b[0m\u001b[0;34m]\u001b[0m\u001b[0;34m,\u001b[0m \u001b[0mfila_n\u001b[0m\u001b[0;34m[\u001b[0m\u001b[0;34m\"n\"\u001b[0m\u001b[0;34m]\u001b[0m\u001b[0;34m,\u001b[0m \u001b[0mfila_n\u001b[0m\u001b[0;34m[\u001b[0m\u001b[0;34m\"m\"\u001b[0m\u001b[0;34m]\u001b[0m\u001b[0;34m,\u001b[0m \u001b[0malgo\u001b[0m\u001b[0;34m,\u001b[0m \u001b[0mfila_n\u001b[0m\u001b[0;34m[\u001b[0m\u001b[0;34m\"archivo\"\u001b[0m\u001b[0;34m]\u001b[0m\u001b[0;34m]\u001b[0m\u001b[0;34m)\u001b[0m\u001b[0;34m;\u001b[0m\u001b[0;34m\u001b[0m\u001b[0;34m\u001b[0m\u001b[0m\n\u001b[1;32m      5\u001b[0m \u001b[0;34m\u001b[0m\u001b[0m\n",
      "\u001b[0;31mNameError\u001b[0m: name 'df_grafos_propios' is not defined"
     ]
    }
   ],
   "source": [
    "\n",
    "for n in range(0, df_grafos_propios.shape[0]):\n",
    "    fila_n = df_grafos_propios.iloc[n];\n",
    "    for algo in algoritmos:\n",
    "        experimentos.append([fila_n[\"dataset\"], fila_n[\"n\"], fila_n[\"m\"], algo, fila_n[\"archivo\"]]);\n",
    " "
   ]
  },
  {
   "cell_type": "markdown",
   "metadata": {},
   "source": [
    "# Ejecucion de algoritmos con Grafos Random"
   ]
  },
  {
   "cell_type": "code",
   "execution_count": null,
   "metadata": {
    "scrolled": true
   },
   "outputs": [
    {
     "data": {
      "text/plain": [
       "'Experimento: 494/500'"
      ]
     },
     "metadata": {},
     "output_type": "display_data"
    },
    {
     "data": {
      "text/plain": [
       "'TABU_CICLOS'"
      ]
     },
     "metadata": {},
     "output_type": "display_data"
    },
    {
     "data": {
      "text/plain": [
       "'TABU_CICLOS'"
      ]
     },
     "metadata": {},
     "output_type": "display_data"
    },
    {
     "data": {
      "text/plain": [
       "'TABU_CICLOS'"
      ]
     },
     "metadata": {},
     "output_type": "display_data"
    }
   ],
   "source": [
    "columnas = [\"dataset\", \"n\", \"m\", \"metodo\", \"tiempo\", \"costo\"];\n",
    "filas = [];\n",
    "numero = 1\n",
    "T = 5 # Numero de veces que se ejecuta cada experimento (para mayor fidelidad del tiempo).\n",
    "for experimento in experimentos:\n",
    "    # Voy mostrando que experimento se esta ejecutando.\n",
    "    clear_output(wait=True)\n",
    "    display('Experimento: ' + str(numero) + \"/\" + str(len(experimentos)))\n",
    "    numero += 1\n",
    "    \n",
    "    # Ejecutamos el experimento T veces y obtenemos la mediana.\n",
    "    costos  = []\n",
    "    tiempos = []\n",
    "    for i in range(0, T):\n",
    "        resultado = correr_experimento(experimento[3], experimento[4])\n",
    "        algoritmo = experimento[4]\n",
    "        costos.append(resultado[2])\n",
    "        tiempos.append(resultado[0]);\n",
    "    costo = min(costos)\n",
    "    tiempo = np.mean(tiempos);\n",
    "    filas.append([experimento[0], experimento[1], experimento[2], experimento[3], tiempo,costo ]);\n",
    "df_resultado = pd.DataFrame(filas, columns=columnas);\n",
    "df_resultado.to_csv(\"resultados/resultado.csv\", index=False, header=True);"
   ]
  },
  {
   "cell_type": "markdown",
   "metadata": {},
   "source": [
    "# Ejecucion de los experimentos con optimos conocidos"
   ]
  },
  {
   "cell_type": "code",
   "execution_count": 18,
   "metadata": {},
   "outputs": [
    {
     "data": {
      "text/html": [
       "<div>\n",
       "<style scoped>\n",
       "    .dataframe tbody tr th:only-of-type {\n",
       "        vertical-align: middle;\n",
       "    }\n",
       "\n",
       "    .dataframe tbody tr th {\n",
       "        vertical-align: top;\n",
       "    }\n",
       "\n",
       "    .dataframe thead th {\n",
       "        text-align: right;\n",
       "    }\n",
       "</style>\n",
       "<table border=\"1\" class=\"dataframe\">\n",
       "  <thead>\n",
       "    <tr style=\"text-align: right;\">\n",
       "      <th></th>\n",
       "      <th>dataset</th>\n",
       "      <th>instancia</th>\n",
       "      <th>n</th>\n",
       "      <th>m</th>\n",
       "      <th>archivo</th>\n",
       "      <th>peso_optimo</th>\n",
       "    </tr>\n",
       "  </thead>\n",
       "  <tbody>\n",
       "    <tr>\n",
       "      <th>0</th>\n",
       "      <td>sol_optimas</td>\n",
       "      <td>u1432</td>\n",
       "      <td>1432</td>\n",
       "      <td>1024596.0</td>\n",
       "      <td>instancias/descargas/data/u1432.tsp</td>\n",
       "      <td>152970</td>\n",
       "    </tr>\n",
       "    <tr>\n",
       "      <th>1</th>\n",
       "      <td>sol_optimas</td>\n",
       "      <td>gr666</td>\n",
       "      <td>666</td>\n",
       "      <td>221445.0</td>\n",
       "      <td>instancias/descargas/data/gr666.tsp</td>\n",
       "      <td>294358</td>\n",
       "    </tr>\n",
       "    <tr>\n",
       "      <th>2</th>\n",
       "      <td>sol_optimas</td>\n",
       "      <td>rl1304</td>\n",
       "      <td>1304</td>\n",
       "      <td>849556.0</td>\n",
       "      <td>instancias/descargas/data/rl1304.tsp</td>\n",
       "      <td>252948</td>\n",
       "    </tr>\n",
       "    <tr>\n",
       "      <th>3</th>\n",
       "      <td>sol_optimas</td>\n",
       "      <td>pr107</td>\n",
       "      <td>107</td>\n",
       "      <td>5671.0</td>\n",
       "      <td>instancias/descargas/data/pr107.tsp</td>\n",
       "      <td>44303</td>\n",
       "    </tr>\n",
       "    <tr>\n",
       "      <th>4</th>\n",
       "      <td>sol_optimas</td>\n",
       "      <td>rat99</td>\n",
       "      <td>99</td>\n",
       "      <td>4851.0</td>\n",
       "      <td>instancias/descargas/data/rat99.tsp</td>\n",
       "      <td>1211</td>\n",
       "    </tr>\n",
       "  </tbody>\n",
       "</table>\n",
       "</div>"
      ],
      "text/plain": [
       "       dataset instancia     n          m  \\\n",
       "0  sol_optimas     u1432  1432  1024596.0   \n",
       "1  sol_optimas     gr666   666   221445.0   \n",
       "2  sol_optimas    rl1304  1304   849556.0   \n",
       "3  sol_optimas     pr107   107     5671.0   \n",
       "4  sol_optimas     rat99    99     4851.0   \n",
       "\n",
       "                                archivo  peso_optimo  \n",
       "0   instancias/descargas/data/u1432.tsp       152970  \n",
       "1   instancias/descargas/data/gr666.tsp       294358  \n",
       "2  instancias/descargas/data/rl1304.tsp       252948  \n",
       "3   instancias/descargas/data/pr107.tsp        44303  \n",
       "4   instancias/descargas/data/rat99.tsp         1211  "
      ]
     },
     "execution_count": 18,
     "metadata": {},
     "output_type": "execute_result"
    }
   ],
   "source": [
    "df_grafos_opt.head()"
   ]
  },
  {
   "cell_type": "code",
   "execution_count": 49,
   "metadata": {},
   "outputs": [],
   "source": [
    "experimentos_optimos = []\n",
    "\n",
    "\n",
    "for n in range(0, df_grafos_opt.shape[0]):\n",
    "    fila_n = df_grafos_opt.iloc[n];\n",
    "    for algo in algoritmos:\n",
    "        experimentos_optimos.append([fila_n[\"dataset\"], fila_n[\"n\"], fila_n[\"m\"], algo, fila_n[\"archivo\"], fila_n[\"peso_optimo\"]]);"
   ]
  },
  {
   "cell_type": "code",
   "execution_count": null,
   "metadata": {},
   "outputs": [],
   "source": [
    "columnas = [\"dataset\", \"n\", \"m\", \"metodo\", \"tiempo\", \"costo\", \"gap\"];\n",
    "filas = [];\n",
    "numero = 1\n",
    "T = 5 # Numero de veces que se ejecuta cada experimento (para mayor fidelidad del tiempo).\n",
    "for experimento in experimentos_optimos:\n",
    "    # Voy mostrando que experimento se esta ejecutando.\n",
    "    clear_output(wait=True)\n",
    "    display('Experimento: ' + str(numero) + \"/\" + str(len(experimentos_optimos)))\n",
    "    numero += 1\n",
    "    \n",
    "    # Ejecutamos el experimento T veces y obtenemos la mediana.\n",
    "    costos  = []\n",
    "    tiempos = []\n",
    "    for i in range(0, T):\n",
    "        resultado = correr_experimento(experimento[3], experimento[4])\n",
    "        algoritmo = experimento[4]\n",
    "        costos.append(resultado[2])\n",
    "        tiempos.append(resultado[0]);\n",
    "    costo = min(costos)\n",
    "    tiempo = np.mean(tiempos);\n",
    "    gap = costo - experimento[5] # Lo que me falto para el costo optimo conocido  \n",
    "    filas.append([experimento[0], experimento[1], experimento[2], experimento[3], tiempo,costo, gap]);\n",
    "df_resultado = pd.DataFrame(filas, columns=columnas);\n",
    "df_resultado.to_csv(\"resultados/resultado_opts.csv\", index=False, header=True);"
   ]
  },
  {
   "cell_type": "markdown",
   "metadata": {},
   "source": [
    "# Ejecucion del experimento de peor caso AGM"
   ]
  },
  {
   "cell_type": "code",
   "execution_count": null,
   "metadata": {},
   "outputs": [],
   "source": [
    "experimentos_AGM = []\n",
    "\n",
    "\n",
    "for n in range(0, df_peor_caso_AGM.shape[0]):\n",
    "    fila_n = df_peor_caso_AGM.iloc[n];\n",
    "    for algo in algoritmos:\n",
    "        experimentos_AGM.append([fila_n[\"dataset\"], fila_n[\"n\"], fila_n[\"m\"], algo, fila_n[\"archivo\"]]);"
   ]
  },
  {
   "cell_type": "code",
   "execution_count": null,
   "metadata": {},
   "outputs": [],
   "source": [
    "columnas = [\"dataset\", \"n\", \"m\", \"metodo\", \"tiempo\", \"costo\"];\n",
    "filas = [];\n",
    "numero = 1\n",
    "T = 5 # Numero de veces que se ejecuta cada experimento (para mayor fidelidad del tiempo).\n",
    "for experimento in experimentos_AGM:\n",
    "    # Voy mostrando que experimento se esta ejecutando.\n",
    "    clear_output(wait=True)\n",
    "    display('Experimento: ' + str(numero) + \"/\" + str(len(experimentos_AGM)))\n",
    "    numero += 1\n",
    "    \n",
    "    # Ejecutamos el experimento T veces y obtenemos la mediana.\n",
    "    costos  = []\n",
    "    tiempos = []\n",
    "    for i in range(0, T):\n",
    "        resultado = correr_experimento(experimento[3], experimento[4])\n",
    "        algoritmo = experimento[4]\n",
    "        costos.append(resultado[2])\n",
    "        tiempos.append(resultado[0]);\n",
    "    costo = min(costos)\n",
    "    tiempo = np.mean(tiempos);\n",
    "    filas.append([experimento[0], experimento[1], experimento[2], experimento[3], tiempo,costo]);\n",
    "df_resultado = pd.DataFrame(filas, columns=columnas);\n",
    "df_resultado.to_csv(\"resultados/resultado_agm.csv\", index=False, header=True);"
   ]
  },
  {
   "cell_type": "markdown",
   "metadata": {},
   "source": [
    "# Experimentacion de parametros TABU"
   ]
  },
  {
   "cell_type": "markdown",
   "metadata": {},
   "source": [
    "## Con los grafos randoms"
   ]
  },
  {
   "cell_type": "code",
   "execution_count": 11,
   "metadata": {},
   "outputs": [],
   "source": [
    "experimentos_TABU_random = []\n",
    "\n",
    "for n in range(0, df_grafos_propios.shape[0]):\n",
    "    fila_n = df_grafos_propios.iloc[n];\n",
    "    for algo in algoritmos_tabu:\n",
    "# como correr_experimentos le pasa de parametro a ./TSP TABU_CICLOS, agregamos aca como strings\n",
    "# t memoria, vecindad, iteraciones\n",
    "        for t in range(10,101,10):\n",
    "            for v in range(10,101,10):\n",
    "                for it in range(100,401,50):\n",
    "                    algo_params = \" \" + str(t) + \" \" + str(v) + \" \" + str(it)\n",
    "                    experimentos_TABU_random.append([fila_n[\"dataset\"], fila_n[\"n\"], fila_n[\"m\"], algo + algo_params, fila_n[\"archivo\"], str(t), str(v), str(it)]);"
   ]
  },
  {
   "cell_type": "code",
   "execution_count": null,
   "metadata": {},
   "outputs": [],
   "source": [
    "columnas = [\"dataset\", \"n\", \"m\", \"metodo\", \"tiempo\", \"costo\", \"memoria\", \"vecindad\", \"iteraciones\"];\n",
    "filas = [];\n",
    "numero = 1\n",
    "T = 3 # Numero de veces que se ejecuta cada experimento (para mayor fidelidad del tiempo).\n",
    "for experimento in experimentos_TABU_random:\n",
    "    # Voy mostrando que experimento se esta ejecutando.\n",
    "    clear_output(wait=True)\n",
    "    display('Experimento: ' + str(numero) + \"/\" + str(len(experimentos_TABU_random)))\n",
    "    numero += 1\n",
    "    \n",
    "    # Ejecutamos el experimento T veces y obtenemos la mediana.\n",
    "    costos  = []\n",
    "    tiempos = []\n",
    "    for i in range(0, T):\n",
    "        resultado = correr_experimento(experimento[3], experimento[4])\n",
    "        costos.append(resultado[2])\n",
    "        tiempos.append(resultado[0]);\n",
    "    costo = min(costos)\n",
    "    tiempo = np.mean(tiempos);\n",
    "    t = experimento[5]\n",
    "    v = experimento[6]\n",
    "    it = experimento[7]\n",
    "    filas.append([experimento[0], experimento[1], experimento[2], experimento[3], tiempo,costo, t, v, it]);\n",
    "df_resultado = pd.DataFrame(filas, columns=columnas);\n",
    "df_resultado.to_csv(\"resultados/resultado_tabu_params_random.csv\", index=False, header=True);"
   ]
  },
  {
   "cell_type": "markdown",
   "metadata": {},
   "source": [
    "## Con los grafos de opt"
   ]
  },
  {
   "cell_type": "code",
   "execution_count": null,
   "metadata": {},
   "outputs": [],
   "source": [
    "experimentos_TABU_opt = []\n",
    "\n",
    "for n in range(0, df_grafos_opts.shape[0]):\n",
    "    fila_n = df_grafos_opts.iloc[n];\n",
    "    if (fila_n[\"n\"] < 400):\n",
    "        for algo in algoritmos_tabu:\n",
    "# como correr_experimentos le pasa de parametro a ./TSP TABU_CICLOS, agregamos aca como strings\n",
    "# t memoria, vecindad, iteraciones\n",
    "            for t in range(10,101,20):\n",
    "                for v in range(10,101,20):\n",
    "                    for it in range(100,401,100):\n",
    "                        algo_params = \" \" + str(t) + \" \" + str(v) + \" \" + str(it)\n",
    "                        experimentos_TABU_opt.append([fila_n[\"dataset\"], fila_n[\"n\"], fila_n[\"m\"], algo + algo_params, fila_n[\"archivo\"], str(t), str(v), str(it)]);"
   ]
  },
  {
   "cell_type": "code",
   "execution_count": null,
   "metadata": {},
   "outputs": [],
   "source": [
    "columnas = [\"dataset\", \"n\", \"m\", \"metodo\", \"tiempo\", \"costo\", \"memoria\", \"vecindad\", \"iteraciones\"];\n",
    "filas = [];\n",
    "numero = 1\n",
    "T = 3 # Numero de veces que se ejecuta cada experimento (para mayor fidelidad del tiempo).\n",
    "for experimento in experimentos_TABU_opt:\n",
    "    # Voy mostrando que experimento se esta ejecutando.\n",
    "    clear_output(wait=True)\n",
    "    display('Experimento: ' + str(numero) + \"/\" + str(len(experimentos_TABU_opt)))\n",
    "    numero += 1\n",
    "    \n",
    "    # Ejecutamos el experimento T veces y obtenemos la mediana.\n",
    "    costos  = []\n",
    "    tiempos = []\n",
    "    for i in range(0, T):\n",
    "        resultado = correr_experimento(experimento[3], experimento[4])\n",
    "        costos.append(resultado[2])\n",
    "        tiempos.append(resultado[0]);\n",
    "    costo = min(costos)\n",
    "    tiempo = np.mean(tiempos);\n",
    "    t = experimento[5]\n",
    "    v = experimento[6]\n",
    "    it = experimento[7]\n",
    "    filas.append([experimento[0], experimento[1], experimento[2], experimento[3], tiempo,costo, t, v, it]);\n",
    "df_resultado = pd.DataFrame(filas, columns=columnas);\n",
    "df_resultado.to_csv(\"resultados/resultado_tabu_params_opt.csv\", index=False, header=True);"
   ]
  }
 ],
 "metadata": {
  "kernelspec": {
   "display_name": "Python 3",
   "language": "python",
   "name": "python3"
  },
  "language_info": {
   "codemirror_mode": {
    "name": "ipython",
    "version": 3
   },
   "file_extension": ".py",
   "mimetype": "text/x-python",
   "name": "python",
   "nbconvert_exporter": "python",
   "pygments_lexer": "ipython3",
   "version": "3.7.3"
  }
 },
 "nbformat": 4,
 "nbformat_minor": 4
}
