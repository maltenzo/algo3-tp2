{
 "cells": [
  {
   "cell_type": "markdown",
   "metadata": {},
   "source": [
    "# Correr experimentos\n",
    "En este archivo está el código para correr los experimentos y escribir los resultados en archivos CSV.\n",
    "> Los archivos se guardan en la carpeta _resultados_."
   ]
  },
  {
   "cell_type": "code",
   "execution_count": 1,
   "metadata": {},
   "outputs": [],
   "source": [
    "import math, subprocess\n",
    "import os\n",
    "import pandas as pd\n",
    "import numpy as np\n",
    "from IPython.display import display, clear_output"
   ]
  },
  {
   "cell_type": "markdown",
   "metadata": {},
   "source": [
    "A continuación leemos los datasets en dataframes de Pandas."
   ]
  },
  {
   "cell_type": "code",
   "execution_count": 2,
   "metadata": {},
   "outputs": [],
   "source": [
    "def leer_instancia(path_instancia):\n",
    "    with open(path_instancia, \"r\") as f:\n",
    "        return f.read();\n",
    "\n",
    "\n",
    "df_grafos_propios = pd.read_csv(\"instancias/grafo-propio/indice.csv\");\n",
    "df_grafos_opt = pd.read_csv(\"instancias/descargas/indice.csv\");\n",
    "df_peor_caso_AGM = pd.read_csv(\"instancias/peor-caso-agm/indice.csv\");\n",
    "df_peor_caso_AG = pd.read_csv(\"instancias/peor-caso-ga/indice2.csv\")\n",
    "df_euleriano = pd.read_csv(\"instancias/grafo-euleriano/indice.csv\")\n"
   ]
  },
  {
   "cell_type": "code",
   "execution_count": 3,
   "metadata": {},
   "outputs": [
    {
     "data": {
      "text/html": [
       "<div>\n",
       "<style scoped>\n",
       "    .dataframe tbody tr th:only-of-type {\n",
       "        vertical-align: middle;\n",
       "    }\n",
       "\n",
       "    .dataframe tbody tr th {\n",
       "        vertical-align: top;\n",
       "    }\n",
       "\n",
       "    .dataframe thead th {\n",
       "        text-align: right;\n",
       "    }\n",
       "</style>\n",
       "<table border=\"1\" class=\"dataframe\">\n",
       "  <thead>\n",
       "    <tr style=\"text-align: right;\">\n",
       "      <th></th>\n",
       "      <th>dataset</th>\n",
       "      <th>instancia</th>\n",
       "      <th>n</th>\n",
       "      <th>m</th>\n",
       "      <th>archivo</th>\n",
       "      <th>peso_optimo</th>\n",
       "    </tr>\n",
       "  </thead>\n",
       "  <tbody>\n",
       "    <tr>\n",
       "      <th>0</th>\n",
       "      <td>sol_optimas</td>\n",
       "      <td>u1432</td>\n",
       "      <td>1432</td>\n",
       "      <td>1024596.0</td>\n",
       "      <td>instancias/descargas/data/u1432.tsp</td>\n",
       "      <td>152970</td>\n",
       "    </tr>\n",
       "    <tr>\n",
       "      <th>1</th>\n",
       "      <td>sol_optimas</td>\n",
       "      <td>gr666</td>\n",
       "      <td>666</td>\n",
       "      <td>221445.0</td>\n",
       "      <td>instancias/descargas/data/gr666.tsp</td>\n",
       "      <td>294358</td>\n",
       "    </tr>\n",
       "    <tr>\n",
       "      <th>2</th>\n",
       "      <td>sol_optimas</td>\n",
       "      <td>rl1304</td>\n",
       "      <td>1304</td>\n",
       "      <td>849556.0</td>\n",
       "      <td>instancias/descargas/data/rl1304.tsp</td>\n",
       "      <td>252948</td>\n",
       "    </tr>\n",
       "    <tr>\n",
       "      <th>3</th>\n",
       "      <td>sol_optimas</td>\n",
       "      <td>pr107</td>\n",
       "      <td>107</td>\n",
       "      <td>5671.0</td>\n",
       "      <td>instancias/descargas/data/pr107.tsp</td>\n",
       "      <td>44303</td>\n",
       "    </tr>\n",
       "    <tr>\n",
       "      <th>4</th>\n",
       "      <td>sol_optimas</td>\n",
       "      <td>rat99</td>\n",
       "      <td>99</td>\n",
       "      <td>4851.0</td>\n",
       "      <td>instancias/descargas/data/rat99.tsp</td>\n",
       "      <td>1211</td>\n",
       "    </tr>\n",
       "    <tr>\n",
       "      <th>...</th>\n",
       "      <td>...</td>\n",
       "      <td>...</td>\n",
       "      <td>...</td>\n",
       "      <td>...</td>\n",
       "      <td>...</td>\n",
       "      <td>...</td>\n",
       "    </tr>\n",
       "    <tr>\n",
       "      <th>81</th>\n",
       "      <td>sol_optimas</td>\n",
       "      <td>kroE100</td>\n",
       "      <td>100</td>\n",
       "      <td>4950.0</td>\n",
       "      <td>instancias/descargas/data/kroE100.tsp</td>\n",
       "      <td>22068</td>\n",
       "    </tr>\n",
       "    <tr>\n",
       "      <th>82</th>\n",
       "      <td>sol_optimas</td>\n",
       "      <td>att48</td>\n",
       "      <td>48</td>\n",
       "      <td>1128.0</td>\n",
       "      <td>instancias/descargas/data/att48.tsp</td>\n",
       "      <td>10628</td>\n",
       "    </tr>\n",
       "    <tr>\n",
       "      <th>83</th>\n",
       "      <td>sol_optimas</td>\n",
       "      <td>ulysses22</td>\n",
       "      <td>22</td>\n",
       "      <td>231.0</td>\n",
       "      <td>instancias/descargas/data/ulysses22.tsp</td>\n",
       "      <td>7013</td>\n",
       "    </tr>\n",
       "    <tr>\n",
       "      <th>84</th>\n",
       "      <td>sol_optimas</td>\n",
       "      <td>d493</td>\n",
       "      <td>493</td>\n",
       "      <td>121278.0</td>\n",
       "      <td>instancias/descargas/data/d493.tsp</td>\n",
       "      <td>35002</td>\n",
       "    </tr>\n",
       "    <tr>\n",
       "      <th>85</th>\n",
       "      <td>sol_optimas</td>\n",
       "      <td>rd100</td>\n",
       "      <td>100</td>\n",
       "      <td>4950.0</td>\n",
       "      <td>instancias/descargas/data/rd100.tsp</td>\n",
       "      <td>7910</td>\n",
       "    </tr>\n",
       "  </tbody>\n",
       "</table>\n",
       "<p>86 rows × 6 columns</p>\n",
       "</div>"
      ],
      "text/plain": [
       "        dataset  instancia     n          m  \\\n",
       "0   sol_optimas      u1432  1432  1024596.0   \n",
       "1   sol_optimas      gr666   666   221445.0   \n",
       "2   sol_optimas     rl1304  1304   849556.0   \n",
       "3   sol_optimas      pr107   107     5671.0   \n",
       "4   sol_optimas      rat99    99     4851.0   \n",
       "..          ...        ...   ...        ...   \n",
       "81  sol_optimas    kroE100   100     4950.0   \n",
       "82  sol_optimas      att48    48     1128.0   \n",
       "83  sol_optimas  ulysses22    22      231.0   \n",
       "84  sol_optimas       d493   493   121278.0   \n",
       "85  sol_optimas      rd100   100     4950.0   \n",
       "\n",
       "                                    archivo  peso_optimo  \n",
       "0       instancias/descargas/data/u1432.tsp       152970  \n",
       "1       instancias/descargas/data/gr666.tsp       294358  \n",
       "2      instancias/descargas/data/rl1304.tsp       252948  \n",
       "3       instancias/descargas/data/pr107.tsp        44303  \n",
       "4       instancias/descargas/data/rat99.tsp         1211  \n",
       "..                                      ...          ...  \n",
       "81    instancias/descargas/data/kroE100.tsp        22068  \n",
       "82      instancias/descargas/data/att48.tsp        10628  \n",
       "83  instancias/descargas/data/ulysses22.tsp         7013  \n",
       "84       instancias/descargas/data/d493.tsp        35002  \n",
       "85      instancias/descargas/data/rd100.tsp         7910  \n",
       "\n",
       "[86 rows x 6 columns]"
      ]
     },
     "metadata": {},
     "output_type": "display_data"
    }
   ],
   "source": [
    "display(df_grafos_opt)"
   ]
  },
  {
   "cell_type": "markdown",
   "metadata": {},
   "source": [
    "La siguiente función sirve para correr el código sobre una instancia ejecutando un método en particular.\n",
    "Metodos:\n",
    "- agm\n",
    "- ins\n",
    "- GA\n",
    "- TABU_CICLOS\n",
    "- TABU_ESTRUCTURA\n"
   ]
  },
  {
   "cell_type": "code",
   "execution_count": 4,
   "metadata": {},
   "outputs": [],
   "source": [
    "def correr_experimento(metodo, archivo_instancia):\n",
    "    # Leer archivo de la instancia.\n",
    "    instancia = leer_instancia(archivo_instancia)\n",
    "    argumentos = [\"../TSP\"]\n",
    "    argumentos = argumentos + metodo.split(\" \")\n",
    "    display(argumentos[1])\n",
    "    #print(instancia)\n",
    "    \n",
    "    \n",
    "    # Crear proceso para ejecutar el codigo.\n",
    "    process = subprocess.Popen(argumentos, stderr=subprocess.PIPE, stdout=subprocess.PIPE, stdin=subprocess.PIPE, universal_newlines = True)\n",
    "\n",
    "    # Poner la instancia en la entrada estandar.\n",
    "    process.stdin.write(instancia)\n",
    "    process.stdin.flush()\n",
    "\n",
    "    # Correr experimento.\n",
    "    exit_code = process.wait()\n",
    "\n",
    "    # Verificar que el proceso no fallo.\n",
    "    if exit_code != 0: raise(F\"Hubo un error en la experimentacion para el algoritmo: {algoritmo} con la instancia {archivo_instancia}.\")\n",
    "    # Leer salida de STDERR con los tiempos de ejecucion de cada metodo.\n",
    "    tiempo_de_ejecucion = float(process.stderr.read());\n",
    "    res = process.stdout.read().split(\" \")\n",
    "    tam = res[0] #tamaño del ciclo\n",
    "    pyc =res[1].split(\"\\n\")\n",
    "    peso = pyc[0] #peso del ciclo\n",
    "    ciclo = pyc[1] #ciclo\n",
    "\n",
    "    \n",
    "    process.stdin.close();\n",
    "    process.stdout.close();\n",
    "    process.stderr.close();\n",
    "    \n",
    "    return [tiempo_de_ejecucion, tam, peso, ciclo]; #devuelvo un par de cosas extra por si las queremos usar"
   ]
  },
  {
   "cell_type": "markdown",
   "metadata": {},
   "source": [
    "# Corremos los experimentos\n",
    "Vamos a guardar una tabla con las ejecuciones y sus respectivos tiempos.\n",
    "\n",
    "### Importante la celda de abajo para generar los experimentos!!"
   ]
  },
  {
   "cell_type": "code",
   "execution_count": 5,
   "metadata": {},
   "outputs": [],
   "source": [
    "experimentos = [];\n",
    "#algoritmos = [\"ins\", \"agm\", \"GA\",  \"TABU_CICLOS\", \"TABU_ESTRUCTURA\"]\n",
    "algoritmos =[\"INS\", \"AGM\", \"GA\"]; #de prueba para ver que funciona\n",
    "algoritmos_tabu = [\"TABU_CICLOS\", \"TABU_ESTRUCTURA\"] # Para los experimentos de parametros\n",
    "algoritmos_tabu_optimizado = [\"TABU_CICLOS 160 30 300\", \"TABU_ESTRUCTURA 80 10 200\"]"
   ]
  },
  {
   "cell_type": "markdown",
   "metadata": {},
   "source": [
    "# armado de experimentos grafos euLeRianos"
   ]
  },
  {
   "cell_type": "code",
   "execution_count": 6,
   "metadata": {},
   "outputs": [],
   "source": [
    "for n in range(0, df_euleriano.shape[0]):\n",
    "    fila_n = df_euleriano.iloc[n];\n",
    "    for algo in algoritmos:\n",
    "        experimentos.append([fila_n[\"dataset\"], fila_n[\"n\"], fila_n[\"m\"], algo, fila_n[\"archivo\"]]);"
   ]
  },
  {
   "cell_type": "markdown",
   "metadata": {},
   "source": [
    "# Ejecucion con grafos euLeRianos"
   ]
  },
  {
   "cell_type": "code",
   "execution_count": 7,
   "metadata": {},
   "outputs": [
    {
     "data": {
      "text/plain": [
       "'Experimento: 300/300'"
      ]
     },
     "metadata": {},
     "output_type": "display_data"
    },
    {
     "data": {
      "text/plain": [
       "'GA'"
      ]
     },
     "metadata": {},
     "output_type": "display_data"
    },
    {
     "data": {
      "text/plain": [
       "'GA'"
      ]
     },
     "metadata": {},
     "output_type": "display_data"
    },
    {
     "data": {
      "text/plain": [
       "'GA'"
      ]
     },
     "metadata": {},
     "output_type": "display_data"
    },
    {
     "data": {
      "text/plain": [
       "'GA'"
      ]
     },
     "metadata": {},
     "output_type": "display_data"
    },
    {
     "data": {
      "text/plain": [
       "'GA'"
      ]
     },
     "metadata": {},
     "output_type": "display_data"
    }
   ],
   "source": [
    "columnas = [\"dataset\", \"n\", \"m\", \"metodo\", \"tiempo\", \"costo\"];\n",
    "filas = [];\n",
    "numero = 1\n",
    "T = 5 # Numero de veces que se ejecuta cada experimento (para mayor fidelidad del tiempo).\n",
    "for experimento in experimentos:\n",
    "    # Voy mostrando que experimento se esta ejecutando.\n",
    "    clear_output(wait=True)\n",
    "    display('Experimento: ' + str(numero) + \"/\" + str(len(experimentos)))\n",
    "    numero += 1\n",
    "    \n",
    "    # Ejecutamos el experimento T veces y obtenemos la mediana.\n",
    "    costos  = []\n",
    "    tiempos = []\n",
    "    for i in range(0, T):\n",
    "        resultado = correr_experimento(experimento[3], experimento[4])\n",
    "        algoritmo = experimento[4]\n",
    "        costos.append(resultado[2])\n",
    "        tiempos.append(resultado[0]);\n",
    "    costo = min(costos)\n",
    "    tiempo = np.mean(tiempos);\n",
    "    filas.append([experimento[0], experimento[1], experimento[2], experimento[3], tiempo,costo ]);\n",
    "df_resultado = pd.DataFrame(filas, columns=columnas);\n",
    "df_resultado.to_csv(\"resultados/resultado_euler.csv\", index=False, header=True);"
   ]
  },
  {
   "cell_type": "markdown",
   "metadata": {},
   "source": [
    "### Armado de experimentos grafos random"
   ]
  },
  {
   "cell_type": "code",
   "execution_count": 23,
   "metadata": {},
   "outputs": [],
   "source": [
    "experimentos = []\n",
    "for n in range(0, df_grafos_propios.shape[0]):\n",
    "    fila_n = df_grafos_propios.iloc[n];\n",
    "    for algo in algoritmos:\n",
    "        experimentos.append([fila_n[\"dataset\"], fila_n[\"n\"], fila_n[\"m\"], algo, fila_n[\"archivo\"]]);\n",
    " "
   ]
  },
  {
   "cell_type": "markdown",
   "metadata": {},
   "source": [
    "# Ejecucion de algoritmos con Grafos Random"
   ]
  },
  {
   "cell_type": "code",
   "execution_count": 24,
   "metadata": {
    "scrolled": true
   },
   "outputs": [
    {
     "data": {
      "text/plain": [
       "'Experimento: 300/300'"
      ]
     },
     "metadata": {},
     "output_type": "display_data"
    },
    {
     "data": {
      "text/plain": [
       "'GA'"
      ]
     },
     "metadata": {},
     "output_type": "display_data"
    },
    {
     "data": {
      "text/plain": [
       "'GA'"
      ]
     },
     "metadata": {},
     "output_type": "display_data"
    },
    {
     "data": {
      "text/plain": [
       "'GA'"
      ]
     },
     "metadata": {},
     "output_type": "display_data"
    },
    {
     "data": {
      "text/plain": [
       "'GA'"
      ]
     },
     "metadata": {},
     "output_type": "display_data"
    },
    {
     "data": {
      "text/plain": [
       "'GA'"
      ]
     },
     "metadata": {},
     "output_type": "display_data"
    }
   ],
   "source": [
    "columnas = [\"dataset\", \"n\", \"m\", \"metodo\", \"tiempo\", \"costo\"];\n",
    "filas = [];\n",
    "numero = 1\n",
    "T = 5 # Numero de veces que se ejecuta cada experimento (para mayor fidelidad del tiempo).\n",
    "for experimento in experimentos:\n",
    "    # Voy mostrando que experimento se esta ejecutando.\n",
    "    clear_output(wait=True)\n",
    "    display('Experimento: ' + str(numero) + \"/\" + str(len(experimentos)))\n",
    "    numero += 1\n",
    "    \n",
    "    # Ejecutamos el experimento T veces y obtenemos la mediana.\n",
    "    costos  = []\n",
    "    tiempos = []\n",
    "    for i in range(0, T):\n",
    "        resultado = correr_experimento(experimento[3], experimento[4])\n",
    "        algoritmo = experimento[4]\n",
    "        costos.append(resultado[2])\n",
    "        tiempos.append(resultado[0]);\n",
    "    costo = min(costos)\n",
    "    tiempo = np.mean(tiempos);\n",
    "    filas.append([experimento[0], experimento[1], experimento[2], experimento[3], tiempo,costo ]);\n",
    "df_resultado = pd.DataFrame(filas, columns=columnas);\n",
    "df_resultado.to_csv(\"resultados/resultado_random.csv\", index=False, header=True);"
   ]
  },
  {
   "cell_type": "markdown",
   "metadata": {},
   "source": [
    "# Ejecucion de los experimentos con optimos conocidos"
   ]
  },
  {
   "cell_type": "code",
   "execution_count": 5,
   "metadata": {},
   "outputs": [
    {
     "data": {
      "text/html": [
       "<div>\n",
       "<style scoped>\n",
       "    .dataframe tbody tr th:only-of-type {\n",
       "        vertical-align: middle;\n",
       "    }\n",
       "\n",
       "    .dataframe tbody tr th {\n",
       "        vertical-align: top;\n",
       "    }\n",
       "\n",
       "    .dataframe thead th {\n",
       "        text-align: right;\n",
       "    }\n",
       "</style>\n",
       "<table border=\"1\" class=\"dataframe\">\n",
       "  <thead>\n",
       "    <tr style=\"text-align: right;\">\n",
       "      <th></th>\n",
       "      <th>dataset</th>\n",
       "      <th>instancia</th>\n",
       "      <th>n</th>\n",
       "      <th>m</th>\n",
       "      <th>archivo</th>\n",
       "      <th>peso_optimo</th>\n",
       "    </tr>\n",
       "  </thead>\n",
       "  <tbody>\n",
       "    <tr>\n",
       "      <th>0</th>\n",
       "      <td>sol_optimas</td>\n",
       "      <td>u1432</td>\n",
       "      <td>1432</td>\n",
       "      <td>1024596.0</td>\n",
       "      <td>instancias/descargas/data/u1432.tsp</td>\n",
       "      <td>152970</td>\n",
       "    </tr>\n",
       "    <tr>\n",
       "      <th>1</th>\n",
       "      <td>sol_optimas</td>\n",
       "      <td>gr666</td>\n",
       "      <td>666</td>\n",
       "      <td>221445.0</td>\n",
       "      <td>instancias/descargas/data/gr666.tsp</td>\n",
       "      <td>294358</td>\n",
       "    </tr>\n",
       "    <tr>\n",
       "      <th>2</th>\n",
       "      <td>sol_optimas</td>\n",
       "      <td>rl1304</td>\n",
       "      <td>1304</td>\n",
       "      <td>849556.0</td>\n",
       "      <td>instancias/descargas/data/rl1304.tsp</td>\n",
       "      <td>252948</td>\n",
       "    </tr>\n",
       "    <tr>\n",
       "      <th>3</th>\n",
       "      <td>sol_optimas</td>\n",
       "      <td>pr107</td>\n",
       "      <td>107</td>\n",
       "      <td>5671.0</td>\n",
       "      <td>instancias/descargas/data/pr107.tsp</td>\n",
       "      <td>44303</td>\n",
       "    </tr>\n",
       "    <tr>\n",
       "      <th>4</th>\n",
       "      <td>sol_optimas</td>\n",
       "      <td>rat99</td>\n",
       "      <td>99</td>\n",
       "      <td>4851.0</td>\n",
       "      <td>instancias/descargas/data/rat99.tsp</td>\n",
       "      <td>1211</td>\n",
       "    </tr>\n",
       "  </tbody>\n",
       "</table>\n",
       "</div>"
      ],
      "text/plain": [
       "       dataset instancia     n          m  \\\n",
       "0  sol_optimas     u1432  1432  1024596.0   \n",
       "1  sol_optimas     gr666   666   221445.0   \n",
       "2  sol_optimas    rl1304  1304   849556.0   \n",
       "3  sol_optimas     pr107   107     5671.0   \n",
       "4  sol_optimas     rat99    99     4851.0   \n",
       "\n",
       "                                archivo  peso_optimo  \n",
       "0   instancias/descargas/data/u1432.tsp       152970  \n",
       "1   instancias/descargas/data/gr666.tsp       294358  \n",
       "2  instancias/descargas/data/rl1304.tsp       252948  \n",
       "3   instancias/descargas/data/pr107.tsp        44303  \n",
       "4   instancias/descargas/data/rat99.tsp         1211  "
      ]
     },
     "execution_count": 5,
     "metadata": {},
     "output_type": "execute_result"
    }
   ],
   "source": [
    "df_grafos_opt.head()"
   ]
  },
  {
   "cell_type": "code",
   "execution_count": 6,
   "metadata": {},
   "outputs": [],
   "source": [
    "experimentos_optimos = []\n",
    "\n",
    "\n",
    "for n in range(0, df_grafos_opt.shape[0]):\n",
    "    fila_n = df_grafos_opt.iloc[n];\n",
    "    for algo in algoritmos:\n",
    "        if (int(fila_n[\"n\"])):\n",
    "            experimentos_optimos.append([fila_n[\"dataset\"], fila_n[\"n\"], fila_n[\"m\"], algo, fila_n[\"archivo\"], fila_n[\"peso_optimo\"]]);\n"
   ]
  },
  {
   "cell_type": "code",
   "execution_count": 8,
   "metadata": {},
   "outputs": [
    {
     "data": {
      "text/plain": [
       "'Experimento: 258/258'"
      ]
     },
     "metadata": {},
     "output_type": "display_data"
    },
    {
     "data": {
      "text/plain": [
       "'GA'"
      ]
     },
     "metadata": {},
     "output_type": "display_data"
    },
    {
     "data": {
      "text/plain": [
       "'GA'"
      ]
     },
     "metadata": {},
     "output_type": "display_data"
    },
    {
     "data": {
      "text/plain": [
       "'GA'"
      ]
     },
     "metadata": {},
     "output_type": "display_data"
    }
   ],
   "source": [
    "columnas = [\"dataset\", \"n\", \"m\", \"metodo\", \"tiempo\", \"costo\", \"gap\"];\n",
    "filas = [];\n",
    "numero = 1\n",
    "T = 3 # Numero de veces que se ejecuta cada experimento (para mayor fidelidad del tiempo).\n",
    "for experimento in experimentos_optimos:\n",
    "    # Voy mostrando que experimento se esta ejecutando.\n",
    "    clear_output(wait=True)\n",
    "    display('Experimento: ' + str(numero) + \"/\" + str(len(experimentos_optimos)))\n",
    "    numero += 1\n",
    "    \n",
    "    # Ejecutamos el experimento T veces y obtenemos la mediana.\n",
    "    costos  = []\n",
    "    tiempos = []\n",
    "    for i in range(0, T):\n",
    "        resultado = correr_experimento(experimento[3], experimento[4])\n",
    "        algoritmo = experimento[4]\n",
    "        costos.append(resultado[2])\n",
    "        tiempos.append(resultado[0]);\n",
    "    costo = int(min(costos))\n",
    "    tiempo = np.mean(tiempos);\n",
    "    gap = (costo / int(experimento[5]) * 100) - 100# Lo que me falto para el costo optimo conocido  \n",
    "    filas.append([experimento[0], experimento[1], experimento[2], experimento[3], tiempo,costo, gap]);\n",
    "df_resultado = pd.DataFrame(filas, columns=columnas);\n",
    "df_resultado.to_csv(\"resultados/resultado_opts.csv\", index=False, header=True);"
   ]
  },
  {
   "cell_type": "markdown",
   "metadata": {},
   "source": [
    "# ESTO NO LO CORRIMO MASTER"
   ]
  },
  {
   "cell_type": "markdown",
   "metadata": {},
   "source": [
    "# Ejecucion del experimento de peor caso AGM"
   ]
  },
  {
   "cell_type": "code",
   "execution_count": 10,
   "metadata": {},
   "outputs": [],
   "source": [
    "experimentos_AGM = []\n",
    "\n",
    "\n",
    "for n in range(0, df_peor_caso_AGM.shape[0]):\n",
    "    fila_n = df_peor_caso_AGM.iloc[n];\n",
    "    for algo in algoritmos_tabu:\n",
    "        experimentos_AGM.append([fila_n[\"dataset\"], fila_n[\"n\"], fila_n[\"m\"], algo, fila_n[\"archivo\"]]);"
   ]
  },
  {
   "cell_type": "code",
   "execution_count": 11,
   "metadata": {},
   "outputs": [
    {
     "data": {
      "text/plain": [
       "'Experimento: 200/200'"
      ]
     },
     "metadata": {},
     "output_type": "display_data"
    },
    {
     "data": {
      "text/plain": [
       "'TABU_ESTRUCTURA'"
      ]
     },
     "metadata": {},
     "output_type": "display_data"
    },
    {
     "data": {
      "text/plain": [
       "'TABU_ESTRUCTURA'"
      ]
     },
     "metadata": {},
     "output_type": "display_data"
    },
    {
     "data": {
      "text/plain": [
       "'TABU_ESTRUCTURA'"
      ]
     },
     "metadata": {},
     "output_type": "display_data"
    },
    {
     "data": {
      "text/plain": [
       "'TABU_ESTRUCTURA'"
      ]
     },
     "metadata": {},
     "output_type": "display_data"
    },
    {
     "data": {
      "text/plain": [
       "'TABU_ESTRUCTURA'"
      ]
     },
     "metadata": {},
     "output_type": "display_data"
    }
   ],
   "source": [
    "columnas = [\"dataset\", \"n\", \"m\", \"metodo\", \"tiempo\", \"costo\"];\n",
    "filas = [];\n",
    "numero = 1\n",
    "T = 5 # Numero de veces que se ejecuta cada experimento (para mayor fidelidad del tiempo).\n",
    "for experimento in experimentos_AGM:\n",
    "    # Voy mostrando que experimento se esta ejecutando.\n",
    "    clear_output(wait=True)\n",
    "    display('Experimento: ' + str(numero) + \"/\" + str(len(experimentos_AGM)))\n",
    "    numero += 1\n",
    "    \n",
    "    # Ejecutamos el experimento T veces y obtenemos la mediana.\n",
    "    costos  = []\n",
    "    tiempos = []\n",
    "    for i in range(0, T):\n",
    "        resultado = correr_experimento(experimento[3], experimento[4])\n",
    "        algoritmo = experimento[4]\n",
    "        costos.append(resultado[2])\n",
    "        tiempos.append(resultado[0]);\n",
    "    costo = min(costos)\n",
    "    tiempo = np.mean(tiempos);\n",
    "    filas.append([experimento[0], experimento[1], experimento[2], experimento[3], tiempo,costo]);\n",
    "df_resultado = pd.DataFrame(filas, columns=columnas);\n",
    "df_resultado.to_csv(\"resultados/resultado_agm_tabu.csv\", index=False, header=True);"
   ]
  },
  {
   "cell_type": "markdown",
   "metadata": {},
   "source": [
    "# Y ACA SI CORRIMO"
   ]
  },
  {
   "cell_type": "markdown",
   "metadata": {},
   "source": [
    "# Experimentacion de parametros TABU"
   ]
  },
  {
   "cell_type": "markdown",
   "metadata": {},
   "source": [
    "## Con los grafos randoms"
   ]
  },
  {
   "cell_type": "code",
   "execution_count": 12,
   "metadata": {},
   "outputs": [],
   "source": [
    "experimentos_TABU_random = []\n",
    "\n",
    "fila_n = df_grafos_propios[df_grafos_propios[\"archivo\"] == \"instancias/grafo-propio/G-100.txt\"]\n",
    "fila_n = fila_n.iloc[0]\n",
    "# como correr_experimentos le pasa de parametro a ./TSP TABU_CICLOS, agregamos aca como strings\n",
    "# t memoria, vecindad, iteraciones\n",
    "for algo in algoritmos_tabu:\n",
    "    for t in range(10,101,20):\n",
    "        for v in range(10,101,20):\n",
    "            for it in range(100,501,100):\n",
    "                algo_params = \" \" + str(t) + \" \" + str(v) + \" \" + str(it)\n",
    "                experimentos_TABU_random.append([fila_n[\"dataset\"], fila_n[\"n\"], fila_n[\"m\"], algo + algo_params, fila_n[\"archivo\"], str(t), str(v), str(it)]);"
   ]
  },
  {
   "cell_type": "code",
   "execution_count": 13,
   "metadata": {},
   "outputs": [
    {
     "name": "stdout",
     "output_type": "stream",
     "text": [
      "1400\n"
     ]
    }
   ],
   "source": [
    "print(len(experimentos_TABU_random))"
   ]
  },
  {
   "cell_type": "code",
   "execution_count": 14,
   "metadata": {},
   "outputs": [
    {
     "data": {
      "text/plain": [
       "'Experimento: 1400/1400'"
      ]
     },
     "metadata": {},
     "output_type": "display_data"
    },
    {
     "data": {
      "text/plain": [
       "'TABU_ESTRUCTURA'"
      ]
     },
     "metadata": {},
     "output_type": "display_data"
    }
   ],
   "source": [
    "columnas = [\"dataset\", \"n\", \"m\", \"metodo\", \"tiempo\", \"costo\", \"memoria\", \"vecindad\", \"iteraciones\"];\n",
    "filas = [];\n",
    "numero = 1\n",
    "T = 1 # Numero de veces que se ejecuta cada experimento (para mayor fidelidad del tiempo).\n",
    "for experimento in experimentos_TABU_random:\n",
    "    # Voy mostrando que experimento se esta ejecutando.\n",
    "    clear_output(wait=True)\n",
    "    display('Experimento: ' + str(numero) + \"/\" + str(len(experimentos_TABU_random)))\n",
    "    numero += 1\n",
    "    \n",
    "    # Ejecutamos el experimento T veces y obtenemos la mediana.\n",
    "    costos  = []\n",
    "    tiempos = []\n",
    "    for i in range(0, T):\n",
    "        resultado = correr_experimento(experimento[3], experimento[4])\n",
    "        costos.append(resultado[2])\n",
    "        tiempos.append(resultado[0]);\n",
    "    costo = min(costos)\n",
    "    tiempo = np.mean(tiempos);\n",
    "    t = experimento[5]\n",
    "    v = experimento[6]\n",
    "    it = experimento[7]\n",
    "    filas.append([experimento[0], experimento[1], experimento[2], experimento[3], tiempo,costo, t, v, it]);\n",
    "df_resultado = pd.DataFrame(filas, columns=columnas);\n",
    "df_resultado.to_csv(\"resultados/resultado_tabu_params_random.csv\", index=False, header=True);"
   ]
  },
  {
   "cell_type": "markdown",
   "metadata": {},
   "source": [
    "## Con los grafos de opt"
   ]
  },
  {
   "cell_type": "code",
   "execution_count": 27,
   "metadata": {},
   "outputs": [],
   "source": [
    "df = df_grafos_opt.copy()\n",
    "\n",
    "experimentos_TABU_opt = []\n",
    "instancias = [\"instancias/descargas/data/bier127.tsp\", \"instancias/descargas/data/d198.tsp\", \"instancias/descargas/data/a280.tsp\", \"instancias/descargas/data/lin318.tsp\"\n",
    ",\"instancias/descargas/data/pr439.tsp\", \"instancias/descargas/data/tsp225.tsp\", \"instancias/descargas/data/pr299.tsp\",\n",
    "\"instancias/descargas/data/rat195.tsp\", \"instancias/descargas/data/pr152.tsp\",\n",
    "\"instancias/descargas/data/rd400.tsp\"]\n",
    "\n",
    "\n",
    "for instancia in instancias:\n",
    "    fila_n = df[df[\"archivo\"] == str(instancia)]\n",
    "    fila_n = fila_n.iloc[0]\n",
    "    \n",
    "\n",
    "#for n in range(0, df_grafos_opts.shape[0]):\n",
    "    #fila_n = df_grafos_opts.iloc[n];\n",
    "    #if (fila_n[\"n\"] < 400):\n",
    "    \n",
    "    for algo in algoritmos_tabu:\n",
    "# como correr_experimentos le pasa de parametro a ./TSP TABU_CICLOS, agregamos aca como strings\n",
    "# t memoria, vecindad, iteraciones\n",
    "        for t in range(40,161,40):\n",
    "            for v in range(10,71,20):\n",
    "                for it in range(100,501,100):\n",
    "                    algo_params = \" \" + str(t) + \" \" + str(v) + \" \" + str(it)\n",
    "                    experimentos_TABU_opt.append([fila_n[\"dataset\"], fila_n[\"n\"], fila_n[\"m\"], algo + algo_params, fila_n[\"archivo\"], str(t), str(v), str(it)]);"
   ]
  },
  {
   "cell_type": "code",
   "execution_count": 28,
   "metadata": {},
   "outputs": [
    {
     "data": {
      "text/plain": [
       "'Experimento: 1600/1600'"
      ]
     },
     "metadata": {},
     "output_type": "display_data"
    },
    {
     "data": {
      "text/plain": [
       "'TABU_ESTRUCTURA'"
      ]
     },
     "metadata": {},
     "output_type": "display_data"
    }
   ],
   "source": [
    "columnas = [\"dataset\", \"n\", \"m\", \"metodo\", \"tiempo\", \"costo\", \"memoria\", \"vecindad\", \"iteraciones\"];\n",
    "filas = [];\n",
    "numero = 1\n",
    "T = 1 # Numero de veces que se ejecuta cada experimento (para mayor fidelidad del tiempo).\n",
    "for experimento in experimentos_TABU_opt:\n",
    "    # Voy mostrando que experimento se esta ejecutando.\n",
    "    clear_output(wait=True)\n",
    "    display('Experimento: ' + str(numero) + \"/\" + str(len(experimentos_TABU_opt)))\n",
    "    numero += 1\n",
    "    #display(experimento)\n",
    "    # Ejecutamos el experimento T veces y obtenemos la mediana.\n",
    "    costos  = []\n",
    "    tiempos = []\n",
    "    for i in range(0, T):\n",
    "        resultado = correr_experimento(experimento[3], experimento[4])\n",
    "        costos.append(resultado[2])\n",
    "        tiempos.append(resultado[0]);\n",
    "    costo = min(costos)\n",
    "    tiempo = np.mean(tiempos);\n",
    "    t = experimento[5]\n",
    "    v = experimento[6]\n",
    "    it = experimento[7]\n",
    "    filas.append([experimento[0], experimento[1], experimento[2], experimento[3], tiempo,costo, t, v, it]);\n",
    "df_resultado = pd.DataFrame(filas, columns=columnas);\n",
    "df_resultado.to_csv(\"resultados/resultado_tabu_params_opt.csv\", index=False, header=True);"
   ]
  },
  {
   "cell_type": "code",
   "execution_count": 18,
   "metadata": {},
   "outputs": [
    {
     "data": {
      "text/plain": [
       "'TABU_CICLOS'"
      ]
     },
     "metadata": {},
     "output_type": "display_data"
    },
    {
     "data": {
      "text/plain": [
       "[16777.0, '318', '48897', '1']"
      ]
     },
     "metadata": {},
     "output_type": "display_data"
    }
   ],
   "source": [
    "res = correr_experimento(\"TABU_CICLOS 50 50 100\", \"instancias/descargas/data/linhp318.tsp\")\n",
    "display(res)"
   ]
  },
  {
   "cell_type": "markdown",
   "metadata": {},
   "source": [
    "# experimentacion vecindad mas finoli"
   ]
  },
  {
   "cell_type": "code",
   "execution_count": 6,
   "metadata": {},
   "outputs": [],
   "source": [
    "df = df_grafos_opt.copy()\n",
    "\n",
    "experimentos_TABU_opt = []\n",
    "instancias = [\"instancias/descargas/data/bier127.tsp\", \"instancias/descargas/data/d198.tsp\", \"instancias/descargas/data/a280.tsp\", \"instancias/descargas/data/lin318.tsp\"\n",
    ",\"instancias/descargas/data/pr439.tsp\", \"instancias/descargas/data/tsp225.tsp\", \"instancias/descargas/data/pr299.tsp\",\n",
    "\"instancias/descargas/data/rat195.tsp\", \"instancias/descargas/data/pr152.tsp\",\n",
    "\"instancias/descargas/data/rd400.tsp\",\"instancias/descargas/data/u1060.tsp\", \"instancias/descargas/data/rat783.tsp\", \"instancias/descargas/data/st70.tsp\",\"instancias/descargas/data/rat575.tsp\",\"instancias/descargas/data/pr299.tsp\" ]\n",
    "\n",
    "\n",
    "for instancia in instancias:\n",
    "    fila_n = df[df[\"archivo\"] == str(instancia)]\n",
    "    fila_n = fila_n.iloc[0]\n",
    "    \n",
    "\n",
    "#for n in range(0, df_grafos_opts.shape[0]):\n",
    "    #fila_n = df_grafos_opts.iloc[n];\n",
    "    #if (fila_n[\"n\"] < 400):\n",
    "    \n",
    "    for algo in algoritmos_tabu:\n",
    "# como correr_experimentos le pasa de parametro a ./TSP TABU_CICLOS, agregamos aca como strings\n",
    "# t memoria, vecindad, iteraciones\n",
    "        for v in range(5, 101, 5):\n",
    "            algo_params = \" \" + str(160) + \" \" + str(v) + \" \" + str(300)\n",
    "            experimentos_TABU_opt.append([fila_n[\"dataset\"], fila_n[\"n\"], fila_n[\"m\"], algo + algo_params, fila_n[\"archivo\"], str(160), str(v), str(300)]);"
   ]
  },
  {
   "cell_type": "code",
   "execution_count": 7,
   "metadata": {},
   "outputs": [
    {
     "data": {
      "text/plain": [
       "'Experimento: 600/600'"
      ]
     },
     "metadata": {},
     "output_type": "display_data"
    },
    {
     "data": {
      "text/plain": [
       "'TABU_ESTRUCTURA'"
      ]
     },
     "metadata": {},
     "output_type": "display_data"
    }
   ],
   "source": [
    "columnas = [\"dataset\", \"n\", \"m\", \"metodo\", \"tiempo\", \"costo\", \"memoria\", \"vecindad\", \"iteraciones\"];\n",
    "filas = [];\n",
    "numero = 1\n",
    "T = 1 # Numero de veces que se ejecuta cada experimento (para mayor fidelidad del tiempo).\n",
    "for experimento in experimentos_TABU_opt:\n",
    "    # Voy mostrando que experimento se esta ejecutando.\n",
    "    clear_output(wait=True)\n",
    "    display('Experimento: ' + str(numero) + \"/\" + str(len(experimentos_TABU_opt)))\n",
    "    numero += 1\n",
    "    #display(experimento)\n",
    "    # Ejecutamos el experimento T veces y obtenemos la mediana.\n",
    "    costos  = []\n",
    "    tiempos = []\n",
    "    for i in range(0, T):\n",
    "        resultado = correr_experimento(experimento[3], experimento[4])\n",
    "        costos.append(resultado[2])\n",
    "        tiempos.append(resultado[0]);\n",
    "    costo = min(costos)\n",
    "    tiempo = np.mean(tiempos);\n",
    "    t = experimento[5]\n",
    "    v = experimento[6]\n",
    "    it = experimento[7]\n",
    "    filas.append([experimento[0], experimento[1], experimento[2], experimento[3], tiempo,costo, t, v, it]);\n",
    "df_resultado = pd.DataFrame(filas, columns=columnas);\n",
    "df_resultado.to_csv(\"resultados/resultado_tabu_params_finoli_opt.csv\", index=False, header=True);"
   ]
  },
  {
   "cell_type": "markdown",
   "metadata": {},
   "source": [
    "# peor caso GA"
   ]
  },
  {
   "cell_type": "code",
   "execution_count": 22,
   "metadata": {},
   "outputs": [],
   "source": [
    "experimentos = []\n",
    "for n in range(0,  df_peor_caso_AG.shape[0]):\n",
    "    fila_n = df_peor_caso_AG.iloc[n];\n",
    "    for algo in algoritmos:\n",
    "        experimentos.append([fila_n[\"dataset\"], fila_n[\"n\"], fila_n[\"m\"], algo, fila_n[\"archivo\"]]);"
   ]
  },
  {
   "cell_type": "code",
   "execution_count": 23,
   "metadata": {},
   "outputs": [
    {
     "data": {
      "text/plain": [
       "'Experimento: 300/300'"
      ]
     },
     "metadata": {},
     "output_type": "display_data"
    },
    {
     "data": {
      "text/plain": [
       "'GA'"
      ]
     },
     "metadata": {},
     "output_type": "display_data"
    }
   ],
   "source": [
    "columnas = [\"dataset\", \"n\", \"m\", \"metodo\", \"tiempo\", \"costo\"];\n",
    "filas = [];\n",
    "numero = 1\n",
    "T = 1 # Numero de veces que se ejecuta cada experimento (para mayor fidelidad del tiempo).\n",
    "for experimento in experimentos:\n",
    "    # Voy mostrando que experimento se esta ejecutando.\n",
    "    clear_output(wait=True)\n",
    "    display('Experimento: ' + str(numero) + \"/\" + str(len(experimentos)))\n",
    "    numero += 1\n",
    "    \n",
    "    # Ejecutamos el experimento T veces y obtenemos la mediana.\n",
    "    costos  = []\n",
    "    tiempos = []\n",
    "    for i in range(0, T):\n",
    "        resultado = correr_experimento(experimento[3], experimento[4])\n",
    "        algoritmo = experimento[3]\n",
    "        costos.append(resultado[2])\n",
    "        tiempos.append(resultado[0]);\n",
    "    costo = min(costos)\n",
    "    tiempo = np.mean(tiempos);\n",
    "    filas.append([experimento[0], experimento[1], experimento[2], experimento[3], tiempo,costo]);\n",
    "df_resultado = pd.DataFrame(filas, columns=columnas);\n",
    "df_resultado.to_csv(\"resultados/resultado_peor_ag2.csv\", index=False, header=True);"
   ]
  },
  {
   "cell_type": "markdown",
   "metadata": {},
   "source": [
    "# Y ACA YA NO VITE"
   ]
  },
  {
   "cell_type": "markdown",
   "metadata": {},
   "source": [
    "# variaciones tabu super culs"
   ]
  },
  {
   "cell_type": "code",
   "execution_count": 5,
   "metadata": {},
   "outputs": [],
   "source": [
    "experimentos_TABU_optimizados = []\n",
    "\n",
    "for n in range(0, df_grafos_propios.shape[0]):\n",
    "    fila_n = df_grafos_propios.iloc[n];\n",
    "    for algo in algoritmos_tabu_optimizado:\n",
    "        experimentos_TABU_optimizados.append([fila_n[\"dataset\"], fila_n[\"n\"], fila_n[\"m\"], algo, fila_n[\"archivo\"]]);"
   ]
  },
  {
   "cell_type": "code",
   "execution_count": 6,
   "metadata": {},
   "outputs": [
    {
     "data": {
      "text/plain": [
       "'Experimento: 200/200'"
      ]
     },
     "metadata": {},
     "output_type": "display_data"
    },
    {
     "data": {
      "text/plain": [
       "'TABU_ESTRUCTURA'"
      ]
     },
     "metadata": {},
     "output_type": "display_data"
    },
    {
     "data": {
      "text/plain": [
       "'TABU_ESTRUCTURA'"
      ]
     },
     "metadata": {},
     "output_type": "display_data"
    },
    {
     "data": {
      "text/plain": [
       "'TABU_ESTRUCTURA'"
      ]
     },
     "metadata": {},
     "output_type": "display_data"
    }
   ],
   "source": [
    "columnas = [\"dataset\", \"n\", \"m\", \"metodo\", \"tiempo\", \"costo\"];\n",
    "filas = [];\n",
    "numero = 1\n",
    "T = 3 # Numero de veces que se ejecuta cada experimento (para mayor fidelidad del tiempo).\n",
    "for experimento in experimentos_TABU_optimizados:\n",
    "    # Voy mostrando que experimento se esta ejecutando.\n",
    "    clear_output(wait=True)\n",
    "    display('Experimento: ' + str(numero) + \"/\" + str(len(experimentos_TABU_optimizados)))\n",
    "    numero += 1\n",
    "    \n",
    "    # Ejecutamos el experimento T veces y obtenemos la mediana.\n",
    "    costos  = []\n",
    "    tiempos = []\n",
    "    for i in range(0, T):\n",
    "        resultado = correr_experimento(experimento[3], experimento[4])\n",
    "        algoritmo = experimento[4]\n",
    "        costos.append(resultado[2])\n",
    "        tiempos.append(resultado[0]);\n",
    "    costo = min(costos)\n",
    "    tiempo = np.mean(tiempos);\n",
    "    filas.append([experimento[0], experimento[1], experimento[2], experimento[3], tiempo,costo ]);\n",
    "df_resultado = pd.DataFrame(filas, columns=columnas);\n",
    "df_resultado.to_csv(\"resultados/resultado_tabu_mejor_configuracion_ins.csv\", index=False, header=True);"
   ]
  },
  {
   "cell_type": "code",
   "execution_count": null,
   "metadata": {},
   "outputs": [],
   "source": []
  }
 ],
 "metadata": {
  "kernelspec": {
   "display_name": "Python 3",
   "language": "python",
   "name": "python3"
  },
  "language_info": {
   "codemirror_mode": {
    "name": "ipython",
    "version": 3
   },
   "file_extension": ".py",
   "mimetype": "text/x-python",
   "name": "python",
   "nbconvert_exporter": "python",
   "pygments_lexer": "ipython3",
   "version": "3.7.5"
  }
 },
 "nbformat": 4,
 "nbformat_minor": 4
}
