{
 "cells": [
  {
   "cell_type": "markdown",
   "metadata": {},
   "source": [
    "# Generador de instancias\n",
    "En este notebook está el código para generar los sets de instancias que se usan para experimentar.\n",
    "- Estas instancias van a ser guardadas en la carpeta __instancias__.\n",
    "- Cada set estará en su propia carpeta y tendrá un archivo _indice.csv_ que contendrá información sobre las instancias."
   ]
  },
  {
   "cell_type": "code",
   "execution_count": 5,
   "metadata": {},
   "outputs": [],
   "source": [
    "import random, math\n",
    "import pandas as pd"
   ]
  },
  {
   "cell_type": "code",
   "execution_count": 12,
   "metadata": {},
   "outputs": [],
   "source": [
    "def save_instance(dataset, instance_name, n, aristas):\n",
    "    with open(F\"instancias/{dataset}/{instance_name}.txt\", \"w\") as f:\n",
    "        print(n, len(aristas), file=f) #escribo la cantidad de nodos seguido de la cantidad de aristas\n",
    "        for arista in aristas: #para todas las aristas\n",
    "            print(arista[0], file=f, end= \" \") #escribo el primer nodo\n",
    "            print(arista[1], file=f, end= \" \") #el segundo\n",
    "            print(arista[2], file=f) # el peso y salto de linea\n",
    "            \n",
    "def save_index(dataset, instances):\n",
    "    with open(F\"instancias/{dataset}/instances.txt\", \"w\") as f:\n",
    "        for instance in instances: \n",
    "            print(instance, file=f)"
   ]
  },
  {
   "cell_type": "code",
   "execution_count": 13,
   "metadata": {},
   "outputs": [],
   "source": [
    "filas_indice = []\n",
    "for n in range(3, 103):#creo 100 grafos con n=3....103\n",
    "    aristas= n*(n-1)/2 #cantidad de aristas de un grafo Kn\n",
    "    S = []#inicializo la lista donde voy a guardar las aristas\n",
    "    for i in range(1, n+1):#empiezo en el nodo 1 en vez del nodo 0 por convencion del tp\n",
    "        for j in range (i+1, n+1):#creo una arista para todo par i, j donde j>i\n",
    "              S.append([i, j, random.randint(0, 100)]) #la guardo\n",
    "    save_instance(\"grafo-propio\", F\"G-{n}\", n, S)\n",
    "    filas_indice.append([\"grafo-propio\", F\"G-{n}\", n, aristas, F\"instancias/grafo-propio/G-{n}.txt\"])     \n",
    "pd.DataFrame(filas_indice, columns=[\"dataset\", \"instancia\", \"n\", \"m\", \"archivo\"]).to_csv(\"instancias/grafo-propio/indice.csv\", index=False, header=True)    "
   ]
  },
  {
   "cell_type": "code",
   "execution_count": 4,
   "metadata": {},
   "outputs": [
    {
     "data": {
      "text/plain": [
       "[1]"
      ]
     },
     "metadata": {},
     "output_type": "display_data"
    }
   ],
   "source": []
  },
  {
   "cell_type": "code",
   "execution_count": null,
   "metadata": {},
   "outputs": [],
   "source": []
  }
 ],
 "metadata": {
  "kernelspec": {
   "display_name": "Python 3",
   "language": "python",
   "name": "python3"
  },
  "language_info": {
   "codemirror_mode": {
    "name": "ipython",
    "version": 3
   },
   "file_extension": ".py",
   "mimetype": "text/x-python",
   "name": "python",
   "nbconvert_exporter": "python",
   "pygments_lexer": "ipython3",
   "version": "3.8.2"
  }
 },
 "nbformat": 4,
 "nbformat_minor": 4
}
