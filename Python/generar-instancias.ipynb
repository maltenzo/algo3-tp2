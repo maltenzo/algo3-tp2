{
 "cells": [
  {
   "cell_type": "markdown",
   "metadata": {},
   "source": [
    "# Generador de instancias\n",
    "En este notebook está el código para generar los sets de instancias que se usan para experimentar.\n",
    "- Estas instancias van a ser guardadas en la carpeta __instancias__.\n",
    "- Cada set estará en su propia carpeta y tendrá un archivo _indice.csv_ que contendrá información sobre las instancias."
   ]
  },
  {
   "cell_type": "code",
   "execution_count": 1,
   "metadata": {},
   "outputs": [],
   "source": [
    "import random, math\n",
    "import pandas as pd\n",
    "import os"
   ]
  },
  {
   "cell_type": "code",
   "execution_count": 8,
   "metadata": {},
   "outputs": [],
   "source": [
    "def save_instance(dataset, instance_name, n, aristas):\n",
    "    with open(F\"instancias/{dataset}/{instance_name}.txt\", \"w\") as f:\n",
    "        print(n, len(aristas), file=f) #escribo la cantidad de nodos seguido de la cantidad de aristas\n",
    "        for arista in aristas: #para todas las aristas\n",
    "            print(arista[0], file=f, end= \" \") #escribo el primer nodo\n",
    "            print(arista[1], file=f, end= \" \") #el segundo\n",
    "            print(arista[2], file=f, end =\" \") # el peso y salto de linea\n",
    "            \n",
    "def save_index(dataset, instances):\n",
    "    with open(F\"instancias/{dataset}/instances.txt\", \"w\") as f:\n",
    "        for instance in instances: \n",
    "            print(instance, file=f)"
   ]
  },
  {
   "cell_type": "code",
   "execution_count": 3,
   "metadata": {},
   "outputs": [],
   "source": [
    "filas_indice = []\n",
    "for n in range(3, 103):#creo 100 grafos con n=3....103\n",
    "    aristas= n*(n-1)/2 #cantidad de aristas de un grafo Kn\n",
    "    S = []#inicializo la lista donde voy a guardar las aristas\n",
    "    for i in range(1, n+1):#empiezo en el nodo 1 en vez del nodo 0 por convencion del tp\n",
    "        for j in range (i+1, n+1):#creo una arista para todo par i, j donde j>i\n",
    "              S.append([i, j, random.randint(0, 100)]) #la guardo\n",
    "    save_instance(\"grafo-propio\", F\"G-{n}\", n, S)\n",
    "    filas_indice.append([\"grafo-propio\", F\"G-{n}\", n, aristas, F\"instancias/grafo-propio/G-{n}.txt\"])     \n",
    "pd.DataFrame(filas_indice, columns=[\"dataset\", \"instancia\", \"n\", \"m\", \"archivo\"]).to_csv(\"instancias/grafo-propio/indice.csv\", index=False, header=True)    "
   ]
  },
  {
   "cell_type": "markdown",
   "metadata": {},
   "source": [
    "# Peor caso AGM"
   ]
  },
  {
   "cell_type": "code",
   "execution_count": 9,
   "metadata": {},
   "outputs": [],
   "source": [
    "filas_agm = []\n",
    "for n in range(3, 103):\n",
    "    aristas = n*(n-1)/2\n",
    "    S = []\n",
    "    for j in range(2,n+1):\n",
    "        S.append([1, j, 1]) #quiero que el AGM sea una estrella centrada en V1\n",
    "    for i in range(2, n+1): #el resto\n",
    "        if i+1<n+1:\n",
    "            S.append([i,i+1, random.randint(150, 200)]) #la arista hacia el proximo en dfs es MUY costosa\n",
    "        for j in range(i+2, n+1):\n",
    "            S.append([i,j, random.randint(20,100)]) #el resto es malo, pero no tanto como las que elije el dfs\n",
    "    save_instance(\"peor-caso-agm\", F\"AGM-{n}\",n,S)\n",
    "    filas_agm.append([\"peor-caso-agm\",F\"AGM-{n}\",n,aristas,F\"instancias/peor-caso-agm/AGM-{n}.txt\"])\n",
    "pd.DataFrame(filas_agm, columns=[\"dataset\", \"instancia\", \"n\", \"m\", \"archivo\"]).to_csv(\"instancias/peor-caso-agm/indice.csv\", index=False, header=True)"
   ]
  },
  {
   "cell_type": "markdown",
   "metadata": {},
   "source": [
    "# Cargamos los grafos para los cuales conocemos los resultados optimos"
   ]
  },
  {
   "cell_type": "code",
   "execution_count": 10,
   "metadata": {},
   "outputs": [],
   "source": [
    "filas_indice=[]\n",
    "archivos = os.listdir(\"instancias/descargas/data\")\n",
    "for instancia in archivos:\n",
    "    n = \"\"\n",
    "    for letra in instancia:\n",
    "        if letra.isnumeric():\n",
    "            n = n+letra\n",
    "    n = int(n)\n",
    "    aristas= n*(n-1)/2 #cantidad de aristas de un grafo Kn\n",
    "    nombre = instancia.split(\".\")[0]\n",
    "    filas_indice.append([\"sol_optimas\", nombre, n, aristas, F\"instancias/descargas/{nombre}.tsp\"])\n",
    "pd.DataFrame(filas_indice, columns=[\"dataset\", \"instancia\", \"n\", \"m\", \"archivo\"]).to_csv(\"instancias/descargas/indice.csv\", index=False, header=True)\n",
    "    \n"
   ]
  },
  {
   "cell_type": "code",
   "execution_count": null,
   "metadata": {},
   "outputs": [],
   "source": []
  }
 ],
 "metadata": {
  "kernelspec": {
   "display_name": "Python 3",
   "language": "python",
   "name": "python3"
  },
  "language_info": {
   "codemirror_mode": {
    "name": "ipython",
    "version": 3
   },
   "file_extension": ".py",
   "mimetype": "text/x-python",
   "name": "python",
   "nbconvert_exporter": "python",
   "pygments_lexer": "ipython3",
   "version": "3.7.3"
  }
 },
 "nbformat": 4,
 "nbformat_minor": 4
}
