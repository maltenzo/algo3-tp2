{
 "cells": [
  {
   "cell_type": "markdown",
   "metadata": {},
   "source": [
    "# Generador de instancias\n",
    "En este notebook está el código para generar los sets de instancias que se usan para experimentar.\n",
    "- Estas instancias van a ser guardadas en la carpeta __instancias__.\n",
    "- Cada set estará en su propia carpeta y tendrá un archivo _indice.csv_ que contendrá información sobre las instancias."
   ]
  },
  {
   "cell_type": "code",
   "execution_count": 7,
   "metadata": {},
   "outputs": [],
   "source": [
    "import random, math\n",
    "import pandas as pd"
   ]
  },
  {
   "cell_type": "code",
   "execution_count": 8,
   "metadata": {},
   "outputs": [],
   "source": [
    "def save_instance(dataset, instance_name, S, R):\n",
    "    with open(F\"instancias/{dataset}/{instance_name}.txt\", \"w\") as f:\n",
    "        print(len(S), R, file=f)\n",
    "        for s in S:\n",
    "            for n in s:\n",
    "                print(n, file=f, end=\" \")\n",
    "\n",
    "def save_index(dataset, instances):\n",
    "    with open(F\"instancias/{dataset}/instances.txt\", \"w\") as f:\n",
    "        for instance in instances: \n",
    "            print(instance, file=f)"
   ]
  },
  {
   "cell_type": "markdown",
   "metadata": {},
   "source": [
    "## Dataset 1\n",
    "Instancias de mejor caso de backtracking, están descriptas en el informe en más detalle.\n"
   ]
  },
  {
   "cell_type": "code",
   "execution_count": 9,
   "metadata": {},
   "outputs": [],
   "source": [
    "#mejor caso es O(n), es el mejor caso porque rechaza todo elemento menos el ultimo. Entonces termina recorriendo \n",
    "#linealmete S\n",
    "filas_indice = []\n",
    "for i in range(1, 1001):\n",
    "    n = i*12 \n",
    "    R = i*12\n",
    "    S = [[R+10, n+i] for i in range(0, n)]\n",
    "    S[-1] = [R, R] #esta linea accede al ultimo elemento del array\n",
    "    save_instance(\"mejor-caso-BT\", F\"BT-MC-{n}\", S, R)\n",
    "    filas_indice.append([\"mejor-caso-BT\", F\"BT-MC-{n}\", n, R, F\"instancias/mejor-caso-BT/BT-MC-{n}.txt\"])\n",
    "pd.DataFrame(filas_indice, columns=[\"dataset\", \"instancia\", \"n\", \"R\", \"archivo\"]).to_csv(\"instancias/mejor-caso-BT/indice.csv\", index=False, header=True)"
   ]
  },
  {
   "cell_type": "markdown",
   "metadata": {},
   "source": [
    "## Dataset 2\n",
    "Instancias de peor caso de backtracking-O, están descriptas en el informe en más detalle.\n"
   ]
  },
  {
   "cell_type": "code",
   "execution_count": 10,
   "metadata": {},
   "outputs": [],
   "source": [
    "#peor caso es O(2^n) cuando solo es la poda de opt, recorre todo el arbol al\n",
    "#no encontrar soluciones validas\n",
    "filas_indice = []\n",
    "for n in range(1, 31):\n",
    "    R = random.randint(1, 1000)\n",
    "    S = [[R,R] for i in range(0, n)]\n",
    "    save_instance(\"peor-caso-BT-O\", F\"BT-O-PC-{n}\", S, R)\n",
    "    filas_indice.append([\"peor-caso-BT-O\", F\"BT-O-PC-{n}\", n, R, F\"instancias/peor-caso-BT-O/BT-O-PC-{n}.txt\"])\n",
    "pd.DataFrame(filas_indice, columns=[\"dataset\", \"instancia\", \"n\", \"R\", \"archivo\"]).to_csv(\"instancias/peor-caso-BT-O/indice.csv\", index=False, header=True)"
   ]
  },
  {
   "cell_type": "code",
   "execution_count": 11,
   "metadata": {},
   "outputs": [],
   "source": [
    "#peor caso es O(2^n) cuando solo es la poda de fact, recorre todo el arbol al\n",
    "#no encontrar soluciones invalidas\n",
    "filas_indice = []\n",
    "for n in range(1, 31):\n",
    "    R = random.randint(n, 1000)\n",
    "    S = [[1,R] for i in range(0, n)]\n",
    "    save_instance(\"peor-caso-BT-F\", F\"BT-F-PC-{n}\", S, R)\n",
    "    filas_indice.append([\"peor-caso-BT-F\", F\"BT-F-PC-{n}\", n, R, F\"instancias/peor-caso-BT-F/BT-F-PC-{n}.txt\"])\n",
    "pd.DataFrame(filas_indice, columns=[\"dataset\", \"instancia\", \"n\", \"R\", \"archivo\"]).to_csv(\"instancias/peor-caso-BT-F/indice.csv\", index=False, header=True)"
   ]
  },
  {
   "cell_type": "markdown",
   "metadata": {},
   "source": [
    "# INSTANCIA 3\n",
    "soluciones largas (lion)"
   ]
  },
  {
   "cell_type": "code",
   "execution_count": 12,
   "metadata": {},
   "outputs": [],
   "source": [
    "filas_indice = []\n",
    "for n in range(5,55):\n",
    "    R = random.randint(n,1000) \n",
    "    S =[[random.randint(1,2*math.floor(R/n)), #la idea es que los pesos sean como mucho que n/2 items llenen el tubo\n",
    "         random.randint(R - math.floor(R/10), R)] for k in range(0,n)] #y las resistencias tiendan más a soportar pilas\n",
    "    save_instance(\"sol-largas-L\", F\"sol-largas-L-{n}\", S, R)\n",
    "    filas_indice.append([\"sol-largas-L\", F\"sol-largas-L-{n}\", n, R, F\"instancias/sol-largas-L/sol-largas-L-{n}.txt\"])\n",
    "pd.DataFrame(filas_indice, columns=[\"dataset\", \"instancia\", \"n\", \"R\", \"archivo\"]).to_csv(\"instancias/sol-largas-L/indice.csv\", index=False, header=True)"
   ]
  },
  {
   "cell_type": "markdown",
   "metadata": {},
   "source": [
    "# INSTANCIA 4\n",
    "soluciones cortas (lion)"
   ]
  },
  {
   "cell_type": "code",
   "execution_count": 13,
   "metadata": {},
   "outputs": [],
   "source": [
    "filas_indice = []\n",
    "for n in range(5,55):\n",
    "    R = random.randint(n, 1000)\n",
    "    S = [[random.randint(2*math.floor(R/n),R - math.floor(R/4)), #en el mejor caso las soluciones son de n/2 y en el peor son de 1\n",
    "          random.randint(2*math.floor(R/n),R)] for k in range(0,n)] #la idea es que nunca haya mucha toleracia a pilas, pero que existan\n",
    "    save_instance(\"sol-cortas-L\", F\"sol-cortas-L-{n}\", S, R)\n",
    "    filas_indice.append([\"sol-cortas-L\", F\"sol-cortas-L-{n}\", n, R, F\"instancias/sol-cortas-L/sol-cortas-L-{n}.txt\"])\n",
    "pd.DataFrame(filas_indice, columns=[\"dataset\", \"instancia\", \"n\", \"R\", \"archivo\"]).to_csv(\"instancias/sol-cortas-L/indice.csv\", index=False, header=True)"
   ]
  },
  {
   "cell_type": "markdown",
   "metadata": {},
   "source": [
    "# INSTANCIA 5\n",
    "mejor caso DP posible"
   ]
  },
  {
   "cell_type": "code",
   "execution_count": 18,
   "metadata": {},
   "outputs": [],
   "source": [
    "filas_indice = []\n",
    "for i in range(5,60):\n",
    "    n = i\n",
    "    R = random.randint(n,n*5) #con los pesos como son, queremos que no nos pasemos de la resistencia del tubo mucho\n",
    "    S =[[random.randint(1,math.floor(R/n)), #asi hay muchas pilas de pesos similares en el mismo i\n",
    "         random.randint(2*math.floor(R/n), 5*math.floor(R/n))] for k in range(0,n)] #para que se quiebren bastante, y no haya soluciones muy grandes que usen varios espacios \n",
    "    save_instance(\"mejor-DP\", F\"mejor-DP-{n}\", S, R)\n",
    "    filas_indice.append([\"mejor-DP\", F\"mejor-DP-{n}\", n, R, F\"instancias/mejor-DP/mejor-DP-{n}.txt\"])\n",
    "pd.DataFrame(filas_indice, columns=[\"dataset\", \"instancia\", \"n\", \"R\", \"archivo\"]).to_csv(\"instancias/mejor-DP/indice.csv\", index=False, header=True)    "
   ]
  },
  {
   "cell_type": "markdown",
   "metadata": {},
   "source": [
    "# instancia 6 dp generales\n"
   ]
  },
  {
   "cell_type": "code",
   "execution_count": 17,
   "metadata": {},
   "outputs": [],
   "source": [
    "filas_indice = []\n",
    "for n in range(1000, 8000, 500):\n",
    "       for R in range(1000, 8000, 500):\n",
    "        S = [[random.randint(2*math.floor(R/n),R - math.floor(R/4)), #en el mejor caso las soluciones son de n/2 y en el peor son de 1\n",
    "              random.randint(2*math.floor(R/n),R)] for k in range(0,n)]\n",
    "        save_instance( \"dinamica\", F\"DP-{n}-{R}\", S, R)\n",
    "        filas_indice.append([\"dinamica\", F\"DP-{n}-{R}\", n, R, F\"instancias/dinamica/DP-{n}-{R}.txt\"])  \n",
    "pd.DataFrame(filas_indice, columns=[\"dataset\", \"instancia\", \"n\", \"R\", \"archivo\"]).to_csv(\"instancias/dinamica/indice.csv\", index=False, header=True)        \n",
    "         \n",
    "                "
   ]
  },
  {
   "cell_type": "code",
   "execution_count": null,
   "metadata": {},
   "outputs": [],
   "source": []
  }
 ],
 "metadata": {
  "kernelspec": {
   "display_name": "Python 3",
   "language": "python",
   "name": "python3"
  },
  "language_info": {
   "codemirror_mode": {
    "name": "ipython",
    "version": 3
   },
   "file_extension": ".py",
   "mimetype": "text/x-python",
   "name": "python",
   "nbconvert_exporter": "python",
   "pygments_lexer": "ipython3",
   "version": "3.8.2"
  }
 },
 "nbformat": 4,
 "nbformat_minor": 4
}
